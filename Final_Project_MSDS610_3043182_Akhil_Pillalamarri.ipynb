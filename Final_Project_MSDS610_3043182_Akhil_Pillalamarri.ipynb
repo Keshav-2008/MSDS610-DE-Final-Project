{
 "cells": [
  {
   "cell_type": "markdown",
   "metadata": {},
   "source": [
    "# ***MSDS610 Data Engineering Final Project* - First Notebook**"
   ]
  },
  {
   "cell_type": "markdown",
   "metadata": {},
   "source": [
    "For this **Final Project Scenario**, I chose the ***Chicago AirBNB*** dataset from the kaggle, as it seemed a bit interesting for me than the Used Cars data.\n",
    "\n",
    "### **Scenario Description:**\n",
    "You and a group of friends are considering purchasing a property in Chicago that you can use as an investment. You have heard from other people that they have made a lot of money by renting out either a room or an entire unit (apartment or house). Your friends ask you to analyze data so that they can understand how much you would charge per night based on the type of dwelling you were to purchase.\n",
    "\n",
    "\n",
    "#### ***Analytical Question:***\n",
    "*Analyze the **Chicago AirBNB data**, to understand how much would be the charge per night based on the type of dwelling to purchase.*"
   ]
  },
  {
   "cell_type": "markdown",
   "metadata": {},
   "source": [
    "### **The Process of the Assignment Analysis:**\n",
    "\n",
    "1. **Picking up the Scenario:** I have picked the Chicago AirBNB scenario, which I would be using for the final project.\n",
    "\n",
    "2. **Split and storing of the data:** I will be loading the csv dataset from the kaggle link, and randomly select 100 samples from the dataset, which will act as **Live Data**. Also, I will be using the remaining data for the analysis and process. Both the datasets, will be stored in the PostgreSQL.\n",
    "\n",
    "3. **Data Definition, Preparation and Feature Selection:** Creating a Data Dictionary which lists out each fields, its description and data type. Then Performing all the EDA and Data cleaning methods to prepare the data for the further analysis. Then will be selecting the features to include for the analysis and remove the features which does not have any significant impact on the analysis.\n",
    "\n",
    "4. **Feature Engineering and Final Data Preparation:** Creating 2-4 new features which could have an impact on the model to be built for the analysis, apply any normalizations and standardizations to the data if needed, log those features and save the dataset.\n",
    "\n",
    "5. **Constructing an Optimal Model:** Describing the Target and Predictor variables, performing the 3-way split and choose various appropriate ML algorithms, train the models and if needed, optimize the models. Then saving the best model.\n",
    "\n",
    "6. **Executing the model on the Live Data:** In a new notebook, will be loading the live data apply the same cleaning and feature engineering methods by the help of the User-Defined functions and run the live-data through the model to get the predictions.\n",
    "\n",
    "7. **Storing the Predictions:** Adding the model's predictions as a new column in the live data and save the updated Dataset into the analytics schema.\n",
    "\n",
    "8. **Insights and Evaluation:** Comparing the model's predictions with the actual target values and create the graphs or plots to visualize the model performance."
   ]
  },
  {
   "cell_type": "markdown",
   "metadata": {},
   "source": [
    "First and basic step is to import all the necessary libraries in Python."
   ]
  },
  {
   "cell_type": "code",
   "execution_count": 1,
   "metadata": {},
   "outputs": [],
   "source": [
    "# Importing the basic important libraries:\n",
    "\n",
    "import numpy as np\n",
    "import pandas as pd\n",
    "import matplotlib.pyplot as plt\n",
    "%matplotlib inline\n",
    "import seaborn as sns\n",
    "\n",
    "\n",
    "# Importing the library for the database connection:\n",
    "\n",
    "import psycopg2\n",
    "from sqlalchemy import create_engine"
   ]
  },
  {
   "cell_type": "markdown",
   "metadata": {},
   "source": [
    "Now I will be loading the listings dataset and check the dataset for its information and descriptive statistics."
   ]
  },
  {
   "cell_type": "code",
   "execution_count": 2,
   "metadata": {},
   "outputs": [
    {
     "data": {
      "application/vnd.microsoft.datawrangler.viewer.v0+json": {
       "columns": [
        {
         "name": "index",
         "rawType": "int64",
         "type": "integer"
        },
        {
         "name": "id",
         "rawType": "int64",
         "type": "integer"
        },
        {
         "name": "name",
         "rawType": "object",
         "type": "string"
        },
        {
         "name": "host_id",
         "rawType": "int64",
         "type": "integer"
        },
        {
         "name": "host_name",
         "rawType": "object",
         "type": "string"
        },
        {
         "name": "neighbourhood_group",
         "rawType": "float64",
         "type": "float"
        },
        {
         "name": "neighbourhood",
         "rawType": "object",
         "type": "string"
        },
        {
         "name": "latitude",
         "rawType": "float64",
         "type": "float"
        },
        {
         "name": "longitude",
         "rawType": "float64",
         "type": "float"
        },
        {
         "name": "room_type",
         "rawType": "object",
         "type": "string"
        },
        {
         "name": "price",
         "rawType": "int64",
         "type": "integer"
        },
        {
         "name": "minimum_nights",
         "rawType": "int64",
         "type": "integer"
        },
        {
         "name": "number_of_reviews",
         "rawType": "int64",
         "type": "integer"
        },
        {
         "name": "last_review",
         "rawType": "object",
         "type": "string"
        },
        {
         "name": "reviews_per_month",
         "rawType": "float64",
         "type": "float"
        },
        {
         "name": "calculated_host_listings_count",
         "rawType": "int64",
         "type": "integer"
        },
        {
         "name": "availability_365",
         "rawType": "int64",
         "type": "integer"
        }
       ],
       "conversionMethod": "pd.DataFrame",
       "ref": "7a04528a-3967-4f86-b34b-5c1ab0488692",
       "rows": [
        [
         "0",
         "2384",
         "Hyde Park - Walk to UChicago, 10 min to McCormick",
         "2613",
         "Rebecca",
         null,
         "Hyde Park",
         "41.7879",
         "-87.5878",
         "Private room",
         "60",
         "2",
         "178",
         "15-12-2019",
         "2.56",
         "1",
         "353"
        ],
        [
         "1",
         "4505",
         "394 Great Reviews. 127 y/o House. 40 yds to train.",
         "5775",
         "Craig & Kathleen",
         null,
         "South Lawndale",
         "41.85495",
         "-87.69696",
         "Entire home/apt",
         "105",
         "2",
         "395",
         "14-07-2020",
         "2.81",
         "1",
         "155"
        ],
        [
         "2",
         "7126",
         "Tiny Studio Apartment 94 Walk Score",
         "17928",
         "Sarah",
         null,
         "West Town",
         "41.90289",
         "-87.68182",
         "Entire home/apt",
         "60",
         "2",
         "384",
         "08-03-2020",
         "2.81",
         "1",
         "321"
        ],
        [
         "3",
         "9811",
         "Barbara's Hideaway - Old Town",
         "33004",
         "At Home Inn",
         null,
         "Lincoln Park",
         "41.91769",
         "-87.63788",
         "Entire home/apt",
         "65",
         "4",
         "49",
         "23-10-2019",
         "0.63",
         "9",
         "300"
        ],
        [
         "4",
         "10610",
         "3 Comforts of Cooperative Living",
         "2140",
         "Lois",
         null,
         "Hyde Park",
         "41.79612",
         "-87.59261",
         "Private room",
         "21",
         "1",
         "44",
         "14-02-2020",
         "0.61",
         "5",
         "168"
        ],
        [
         "5",
         "10945",
         "The Biddle House (#1)",
         "33004",
         "At Home Inn",
         null,
         "Lincoln Park",
         "41.91183",
         "-87.64",
         "Entire home/apt",
         "115",
         "4",
         "19",
         "06-08-2020",
         "0.24",
         "9",
         "325"
        ],
        [
         "6",
         "12068",
         "Chicago GOLD COAST 1 Bedroom Condo",
         "40731",
         "Dominic",
         null,
         "Near North Side",
         "41.90452",
         "-87.6332",
         "Entire home/apt",
         "99",
         "5",
         "9",
         "14-01-2019",
         "0.13",
         "1",
         "316"
        ],
        [
         "7",
         "12140",
         "Lincoln Park Guest House",
         "46734",
         "Sharon And Robert",
         null,
         "Lincoln Park",
         "41.92335",
         "-87.64951",
         "Private room",
         "289",
         "2",
         "4",
         "17-10-2018",
         "0.06",
         "1",
         "179"
        ],
        [
         "8",
         "22362",
         "*** Luxury in Chicago! 2BR/ 2Ba / Parking / BBQ **",
         "85811",
         "Craig",
         null,
         "West Town",
         "41.89617",
         "-87.66041",
         "Entire home/apt",
         "99",
         "91",
         "9",
         "12-10-2014",
         "0.11",
         "2",
         "365"
        ],
        [
         "9",
         "24833",
         "Private Apt 1 Block to Fullerton L Red Line - Deck",
         "101521",
         "Red",
         null,
         "Lincoln Park",
         "41.92679",
         "-87.65521",
         "Entire home/apt",
         "112",
         "32",
         "37",
         "29-07-2018",
         "0.29",
         "4",
         "180"
        ]
       ],
       "shape": {
        "columns": 16,
        "rows": 10
       }
      },
      "text/html": [
       "<div>\n",
       "<style scoped>\n",
       "    .dataframe tbody tr th:only-of-type {\n",
       "        vertical-align: middle;\n",
       "    }\n",
       "\n",
       "    .dataframe tbody tr th {\n",
       "        vertical-align: top;\n",
       "    }\n",
       "\n",
       "    .dataframe thead th {\n",
       "        text-align: right;\n",
       "    }\n",
       "</style>\n",
       "<table border=\"1\" class=\"dataframe\">\n",
       "  <thead>\n",
       "    <tr style=\"text-align: right;\">\n",
       "      <th></th>\n",
       "      <th>id</th>\n",
       "      <th>name</th>\n",
       "      <th>host_id</th>\n",
       "      <th>host_name</th>\n",
       "      <th>neighbourhood_group</th>\n",
       "      <th>neighbourhood</th>\n",
       "      <th>latitude</th>\n",
       "      <th>longitude</th>\n",
       "      <th>room_type</th>\n",
       "      <th>price</th>\n",
       "      <th>minimum_nights</th>\n",
       "      <th>number_of_reviews</th>\n",
       "      <th>last_review</th>\n",
       "      <th>reviews_per_month</th>\n",
       "      <th>calculated_host_listings_count</th>\n",
       "      <th>availability_365</th>\n",
       "    </tr>\n",
       "  </thead>\n",
       "  <tbody>\n",
       "    <tr>\n",
       "      <th>0</th>\n",
       "      <td>2384</td>\n",
       "      <td>Hyde Park - Walk to UChicago, 10 min to McCormick</td>\n",
       "      <td>2613</td>\n",
       "      <td>Rebecca</td>\n",
       "      <td>NaN</td>\n",
       "      <td>Hyde Park</td>\n",
       "      <td>41.78790</td>\n",
       "      <td>-87.58780</td>\n",
       "      <td>Private room</td>\n",
       "      <td>60</td>\n",
       "      <td>2</td>\n",
       "      <td>178</td>\n",
       "      <td>15-12-2019</td>\n",
       "      <td>2.56</td>\n",
       "      <td>1</td>\n",
       "      <td>353</td>\n",
       "    </tr>\n",
       "    <tr>\n",
       "      <th>1</th>\n",
       "      <td>4505</td>\n",
       "      <td>394 Great Reviews. 127 y/o House. 40 yds to tr...</td>\n",
       "      <td>5775</td>\n",
       "      <td>Craig &amp; Kathleen</td>\n",
       "      <td>NaN</td>\n",
       "      <td>South Lawndale</td>\n",
       "      <td>41.85495</td>\n",
       "      <td>-87.69696</td>\n",
       "      <td>Entire home/apt</td>\n",
       "      <td>105</td>\n",
       "      <td>2</td>\n",
       "      <td>395</td>\n",
       "      <td>14-07-2020</td>\n",
       "      <td>2.81</td>\n",
       "      <td>1</td>\n",
       "      <td>155</td>\n",
       "    </tr>\n",
       "    <tr>\n",
       "      <th>2</th>\n",
       "      <td>7126</td>\n",
       "      <td>Tiny Studio Apartment 94 Walk Score</td>\n",
       "      <td>17928</td>\n",
       "      <td>Sarah</td>\n",
       "      <td>NaN</td>\n",
       "      <td>West Town</td>\n",
       "      <td>41.90289</td>\n",
       "      <td>-87.68182</td>\n",
       "      <td>Entire home/apt</td>\n",
       "      <td>60</td>\n",
       "      <td>2</td>\n",
       "      <td>384</td>\n",
       "      <td>08-03-2020</td>\n",
       "      <td>2.81</td>\n",
       "      <td>1</td>\n",
       "      <td>321</td>\n",
       "    </tr>\n",
       "    <tr>\n",
       "      <th>3</th>\n",
       "      <td>9811</td>\n",
       "      <td>Barbara's Hideaway - Old Town</td>\n",
       "      <td>33004</td>\n",
       "      <td>At Home Inn</td>\n",
       "      <td>NaN</td>\n",
       "      <td>Lincoln Park</td>\n",
       "      <td>41.91769</td>\n",
       "      <td>-87.63788</td>\n",
       "      <td>Entire home/apt</td>\n",
       "      <td>65</td>\n",
       "      <td>4</td>\n",
       "      <td>49</td>\n",
       "      <td>23-10-2019</td>\n",
       "      <td>0.63</td>\n",
       "      <td>9</td>\n",
       "      <td>300</td>\n",
       "    </tr>\n",
       "    <tr>\n",
       "      <th>4</th>\n",
       "      <td>10610</td>\n",
       "      <td>3 Comforts of Cooperative Living</td>\n",
       "      <td>2140</td>\n",
       "      <td>Lois</td>\n",
       "      <td>NaN</td>\n",
       "      <td>Hyde Park</td>\n",
       "      <td>41.79612</td>\n",
       "      <td>-87.59261</td>\n",
       "      <td>Private room</td>\n",
       "      <td>21</td>\n",
       "      <td>1</td>\n",
       "      <td>44</td>\n",
       "      <td>14-02-2020</td>\n",
       "      <td>0.61</td>\n",
       "      <td>5</td>\n",
       "      <td>168</td>\n",
       "    </tr>\n",
       "    <tr>\n",
       "      <th>5</th>\n",
       "      <td>10945</td>\n",
       "      <td>The Biddle House (#1)</td>\n",
       "      <td>33004</td>\n",
       "      <td>At Home Inn</td>\n",
       "      <td>NaN</td>\n",
       "      <td>Lincoln Park</td>\n",
       "      <td>41.91183</td>\n",
       "      <td>-87.64000</td>\n",
       "      <td>Entire home/apt</td>\n",
       "      <td>115</td>\n",
       "      <td>4</td>\n",
       "      <td>19</td>\n",
       "      <td>06-08-2020</td>\n",
       "      <td>0.24</td>\n",
       "      <td>9</td>\n",
       "      <td>325</td>\n",
       "    </tr>\n",
       "    <tr>\n",
       "      <th>6</th>\n",
       "      <td>12068</td>\n",
       "      <td>Chicago GOLD COAST 1 Bedroom Condo</td>\n",
       "      <td>40731</td>\n",
       "      <td>Dominic</td>\n",
       "      <td>NaN</td>\n",
       "      <td>Near North Side</td>\n",
       "      <td>41.90452</td>\n",
       "      <td>-87.63320</td>\n",
       "      <td>Entire home/apt</td>\n",
       "      <td>99</td>\n",
       "      <td>5</td>\n",
       "      <td>9</td>\n",
       "      <td>14-01-2019</td>\n",
       "      <td>0.13</td>\n",
       "      <td>1</td>\n",
       "      <td>316</td>\n",
       "    </tr>\n",
       "    <tr>\n",
       "      <th>7</th>\n",
       "      <td>12140</td>\n",
       "      <td>Lincoln Park Guest House</td>\n",
       "      <td>46734</td>\n",
       "      <td>Sharon And Robert</td>\n",
       "      <td>NaN</td>\n",
       "      <td>Lincoln Park</td>\n",
       "      <td>41.92335</td>\n",
       "      <td>-87.64951</td>\n",
       "      <td>Private room</td>\n",
       "      <td>289</td>\n",
       "      <td>2</td>\n",
       "      <td>4</td>\n",
       "      <td>17-10-2018</td>\n",
       "      <td>0.06</td>\n",
       "      <td>1</td>\n",
       "      <td>179</td>\n",
       "    </tr>\n",
       "    <tr>\n",
       "      <th>8</th>\n",
       "      <td>22362</td>\n",
       "      <td>*** Luxury in Chicago! 2BR/ 2Ba / Parking / BB...</td>\n",
       "      <td>85811</td>\n",
       "      <td>Craig</td>\n",
       "      <td>NaN</td>\n",
       "      <td>West Town</td>\n",
       "      <td>41.89617</td>\n",
       "      <td>-87.66041</td>\n",
       "      <td>Entire home/apt</td>\n",
       "      <td>99</td>\n",
       "      <td>91</td>\n",
       "      <td>9</td>\n",
       "      <td>12-10-2014</td>\n",
       "      <td>0.11</td>\n",
       "      <td>2</td>\n",
       "      <td>365</td>\n",
       "    </tr>\n",
       "    <tr>\n",
       "      <th>9</th>\n",
       "      <td>24833</td>\n",
       "      <td>Private Apt 1 Block to Fullerton L Red Line - ...</td>\n",
       "      <td>101521</td>\n",
       "      <td>Red</td>\n",
       "      <td>NaN</td>\n",
       "      <td>Lincoln Park</td>\n",
       "      <td>41.92679</td>\n",
       "      <td>-87.65521</td>\n",
       "      <td>Entire home/apt</td>\n",
       "      <td>112</td>\n",
       "      <td>32</td>\n",
       "      <td>37</td>\n",
       "      <td>29-07-2018</td>\n",
       "      <td>0.29</td>\n",
       "      <td>4</td>\n",
       "      <td>180</td>\n",
       "    </tr>\n",
       "  </tbody>\n",
       "</table>\n",
       "</div>"
      ],
      "text/plain": [
       "      id                                               name  host_id  \\\n",
       "0   2384  Hyde Park - Walk to UChicago, 10 min to McCormick     2613   \n",
       "1   4505  394 Great Reviews. 127 y/o House. 40 yds to tr...     5775   \n",
       "2   7126                Tiny Studio Apartment 94 Walk Score    17928   \n",
       "3   9811                      Barbara's Hideaway - Old Town    33004   \n",
       "4  10610                   3 Comforts of Cooperative Living     2140   \n",
       "5  10945                              The Biddle House (#1)    33004   \n",
       "6  12068                 Chicago GOLD COAST 1 Bedroom Condo    40731   \n",
       "7  12140                           Lincoln Park Guest House    46734   \n",
       "8  22362  *** Luxury in Chicago! 2BR/ 2Ba / Parking / BB...    85811   \n",
       "9  24833  Private Apt 1 Block to Fullerton L Red Line - ...   101521   \n",
       "\n",
       "           host_name  neighbourhood_group    neighbourhood  latitude  \\\n",
       "0            Rebecca                  NaN        Hyde Park  41.78790   \n",
       "1   Craig & Kathleen                  NaN   South Lawndale  41.85495   \n",
       "2              Sarah                  NaN        West Town  41.90289   \n",
       "3        At Home Inn                  NaN     Lincoln Park  41.91769   \n",
       "4               Lois                  NaN        Hyde Park  41.79612   \n",
       "5        At Home Inn                  NaN     Lincoln Park  41.91183   \n",
       "6            Dominic                  NaN  Near North Side  41.90452   \n",
       "7  Sharon And Robert                  NaN     Lincoln Park  41.92335   \n",
       "8              Craig                  NaN        West Town  41.89617   \n",
       "9                Red                  NaN     Lincoln Park  41.92679   \n",
       "\n",
       "   longitude        room_type  price  minimum_nights  number_of_reviews  \\\n",
       "0  -87.58780     Private room     60               2                178   \n",
       "1  -87.69696  Entire home/apt    105               2                395   \n",
       "2  -87.68182  Entire home/apt     60               2                384   \n",
       "3  -87.63788  Entire home/apt     65               4                 49   \n",
       "4  -87.59261     Private room     21               1                 44   \n",
       "5  -87.64000  Entire home/apt    115               4                 19   \n",
       "6  -87.63320  Entire home/apt     99               5                  9   \n",
       "7  -87.64951     Private room    289               2                  4   \n",
       "8  -87.66041  Entire home/apt     99              91                  9   \n",
       "9  -87.65521  Entire home/apt    112              32                 37   \n",
       "\n",
       "  last_review  reviews_per_month  calculated_host_listings_count  \\\n",
       "0  15-12-2019               2.56                               1   \n",
       "1  14-07-2020               2.81                               1   \n",
       "2  08-03-2020               2.81                               1   \n",
       "3  23-10-2019               0.63                               9   \n",
       "4  14-02-2020               0.61                               5   \n",
       "5  06-08-2020               0.24                               9   \n",
       "6  14-01-2019               0.13                               1   \n",
       "7  17-10-2018               0.06                               1   \n",
       "8  12-10-2014               0.11                               2   \n",
       "9  29-07-2018               0.29                               4   \n",
       "\n",
       "   availability_365  \n",
       "0               353  \n",
       "1               155  \n",
       "2               321  \n",
       "3               300  \n",
       "4               168  \n",
       "5               325  \n",
       "6               316  \n",
       "7               179  \n",
       "8               365  \n",
       "9               180  "
      ]
     },
     "execution_count": 2,
     "metadata": {},
     "output_type": "execute_result"
    }
   ],
   "source": [
    "# Importing the dataset:\n",
    "\n",
    "chicago_data = pd.read_csv('listings.csv')\n",
    "\n",
    "chicago_data.head(10)"
   ]
  },
  {
   "cell_type": "code",
   "execution_count": 3,
   "metadata": {},
   "outputs": [
    {
     "name": "stdout",
     "output_type": "stream",
     "text": [
      "Descriptive Statistics of the Chicago data:                  id       host_id  neighbourhood_group     latitude  \\\n",
      "count  6.397000e+03  6.397000e+03                  0.0  6397.000000   \n",
      "mean   2.813857e+07  9.850262e+07                  NaN    41.899049   \n",
      "std    1.288337e+07  9.990222e+07                  NaN     0.058929   \n",
      "min    2.384000e+03  2.140000e+03                  NaN    41.647360   \n",
      "25%    1.875555e+07  1.705221e+07                  NaN    41.872740   \n",
      "50%    2.994743e+07  5.738786e+07                  NaN    41.901860   \n",
      "75%    3.959279e+07  1.580558e+08                  NaN    41.939780   \n",
      "max    4.551558e+07  3.679071e+08                  NaN    42.022510   \n",
      "\n",
      "         longitude         price  minimum_nights  number_of_reviews  \\\n",
      "count  6397.000000   6397.000000     6397.000000        6397.000000   \n",
      "mean    -87.664042    153.020009        8.113178          42.753791   \n",
      "std       0.042414    376.207706       22.786856          67.051609   \n",
      "min     -87.846810      0.000000        1.000000           0.000000   \n",
      "25%     -87.687460     64.000000        1.000000           2.000000   \n",
      "50%     -87.660880     99.000000        2.000000          15.000000   \n",
      "75%     -87.633160    155.000000        3.000000          56.000000   \n",
      "max     -87.537520  10000.000000      500.000000         632.000000   \n",
      "\n",
      "       reviews_per_month  calculated_host_listings_count  availability_365  \n",
      "count        5265.000000                     6397.000000       6397.000000  \n",
      "mean            1.745280                       13.598718        174.272159  \n",
      "std             1.745491                       37.180574        138.877601  \n",
      "min             0.020000                        1.000000          0.000000  \n",
      "25%             0.430000                        1.000000         36.000000  \n",
      "50%             1.230000                        2.000000        161.000000  \n",
      "75%             2.570000                        7.000000        329.000000  \n",
      "max            32.430000                      205.000000        365.000000  \n"
     ]
    }
   ],
   "source": [
    "# Checking the descriptive statistics and information of the dataset:\n",
    "\n",
    "print('Descriptive Statistics of the Chicago data:',chicago_data.describe())"
   ]
  },
  {
   "cell_type": "code",
   "execution_count": 4,
   "metadata": {},
   "outputs": [
    {
     "name": "stdout",
     "output_type": "stream",
     "text": [
      "<class 'pandas.core.frame.DataFrame'>\n",
      "RangeIndex: 6397 entries, 0 to 6396\n",
      "Data columns (total 16 columns):\n",
      " #   Column                          Non-Null Count  Dtype  \n",
      "---  ------                          --------------  -----  \n",
      " 0   id                              6397 non-null   int64  \n",
      " 1   name                            6397 non-null   object \n",
      " 2   host_id                         6397 non-null   int64  \n",
      " 3   host_name                       6397 non-null   object \n",
      " 4   neighbourhood_group             0 non-null      float64\n",
      " 5   neighbourhood                   6397 non-null   object \n",
      " 6   latitude                        6397 non-null   float64\n",
      " 7   longitude                       6397 non-null   float64\n",
      " 8   room_type                       6397 non-null   object \n",
      " 9   price                           6397 non-null   int64  \n",
      " 10  minimum_nights                  6397 non-null   int64  \n",
      " 11  number_of_reviews               6397 non-null   int64  \n",
      " 12  last_review                     5265 non-null   object \n",
      " 13  reviews_per_month               5265 non-null   float64\n",
      " 14  calculated_host_listings_count  6397 non-null   int64  \n",
      " 15  availability_365                6397 non-null   int64  \n",
      "dtypes: float64(4), int64(7), object(5)\n",
      "memory usage: 799.8+ KB\n"
     ]
    }
   ],
   "source": [
    "chicago_data.info()"
   ]
  },
  {
   "cell_type": "markdown",
   "metadata": {},
   "source": [
    "### ***Data Definition:***\n",
    "\n",
    "The Chicago AirBNB dataset contains 16 columns, each containing 6,397 values. The type of data each column has is described below:\n",
    "\n",
    "#### **Data Type Classification for the Chicago Airbnb Dataset**\n",
    "\n",
    "##### **1️. Nominal Data (Categorical, No Order)**\n",
    "  1. **`id`** → Unique identifier for the listing  \n",
    "  2. **`name`** → Name of the listing  \n",
    "  3. **`host_id`** → Unique identifier for the host  \n",
    "  4. **`host_name`** → Name of the host  \n",
    "  5. **`neighbourhood_group`** → High-level grouping of neighborhoods (if available)  \n",
    "  6. **`neighbourhood`** → Specific neighborhood where the listing is located  \n",
    "  7. **`room_type`** → Type of room offered (`Entire home/apt`, `Private room`, etc.)  \n",
    "\n",
    "##### **2️. Ordinal Data (Categorical, Ordered)**\n",
    "  8. **`last_review`** → Date of the last review received (chronological order)  \n",
    "\n",
    "##### **3️. Discrete Data (Numerical, Whole Numbers)**\n",
    "  9. **`minimum_nights`** → Minimum number of nights required to book  \n",
    "  10. **`number_of_reviews`** → Total number of reviews received  \n",
    "  11. **`calculated_host_listings_count`** → Number of listings owned by the same host  \n",
    "  12. **`availability_365`** → Number of available days in a year  \n",
    "\n",
    "##### **4️. Continuous Data (Numerical, Can Take Any Value)**\n",
    "  13. **`latitude`** → Latitude coordinate of the listing  \n",
    "  14. **`longitude`** → Longitude coordinate of the listing  \n",
    "  15. **`price`** → Price per night in USD  \n",
    "  16. **`reviews_per_month`** → Average number of reviews per month  \n",
    "\n",
    "\n",
    "\n",
    "For the Analytical question which is **`Analyze the Chicago AirBNB data, to understand how much would be the charge per night based on the type of dwelling to purchase.`**, the **Target Variable** is **`price`** column."
   ]
  },
  {
   "cell_type": "markdown",
   "metadata": {},
   "source": [
    "After checking out the dataset and defining all the columns and identifying the target variable, I will be initializing the database connection and check if it is connected properly or not."
   ]
  },
  {
   "cell_type": "code",
   "execution_count": 5,
   "metadata": {},
   "outputs": [
    {
     "name": "stdout",
     "output_type": "stream",
     "text": [
      "Connection successful!\n"
     ]
    }
   ],
   "source": [
    "# Firstly, Initializing a connection with the database:\n",
    "\n",
    "host = '127.0.0.1'\n",
    "db = 'MSDS610 DE'\n",
    "user = 'postgres'\n",
    "password = 'keshava' \n",
    "port = '5432'\n",
    "schema_1 = 'cleaned'\n",
    "schema_2 = 'raw'\n",
    "\n",
    "conn_str = f'postgresql+psycopg2://{user}:{password}@{host}:{port}/{db}'\n",
    "\n",
    "try:\n",
    "    engine = create_engine(conn_str)\n",
    "    conn = engine.connect()\n",
    "    print(\"Connection successful!\")\n",
    "    conn.close()\n",
    "except Exception as e:\n",
    "    print(f\"Connection failed: {e}\")"
   ]
  },
  {
   "cell_type": "code",
   "execution_count": 6,
   "metadata": {},
   "outputs": [],
   "source": [
    "database_conn = create_engine(\"postgresql://{}:{}@{}:{}/{}\".format(user, password, host, port, db))"
   ]
  },
  {
   "cell_type": "markdown",
   "metadata": {},
   "source": [
    "**Extracting a 100 random samples from the dataset to create *Live data*, and using the remaining data as the actual dataset.**\n",
    "\n",
    "I am going to randomly sample out 100 samples from the dataset which makes a **`live_data`** for my final project and then I will be rename the remaining data as **`main_data`** so that it is easier for me to analyse in this notebook and also it easier for me to remember."
   ]
  },
  {
   "cell_type": "code",
   "execution_count": 8,
   "metadata": {},
   "outputs": [
    {
     "name": "stdout",
     "output_type": "stream",
     "text": [
      "The shape of the live data: (100, 16)\n"
     ]
    }
   ],
   "source": [
    "# Creating the Live Data:\n",
    "\n",
    "live_data = chicago_data.sample(n=100, random_state=42)\n",
    "print('The shape of the live data:',live_data.shape)"
   ]
  },
  {
   "cell_type": "code",
   "execution_count": 9,
   "metadata": {},
   "outputs": [
    {
     "data": {
      "application/vnd.microsoft.datawrangler.viewer.v0+json": {
       "columns": [
        {
         "name": "index",
         "rawType": "int64",
         "type": "integer"
        },
        {
         "name": "id",
         "rawType": "int64",
         "type": "integer"
        },
        {
         "name": "name",
         "rawType": "object",
         "type": "string"
        },
        {
         "name": "host_id",
         "rawType": "int64",
         "type": "integer"
        },
        {
         "name": "host_name",
         "rawType": "object",
         "type": "string"
        },
        {
         "name": "neighbourhood_group",
         "rawType": "float64",
         "type": "float"
        },
        {
         "name": "neighbourhood",
         "rawType": "object",
         "type": "string"
        },
        {
         "name": "latitude",
         "rawType": "float64",
         "type": "float"
        },
        {
         "name": "longitude",
         "rawType": "float64",
         "type": "float"
        },
        {
         "name": "room_type",
         "rawType": "object",
         "type": "string"
        },
        {
         "name": "price",
         "rawType": "int64",
         "type": "integer"
        },
        {
         "name": "minimum_nights",
         "rawType": "int64",
         "type": "integer"
        },
        {
         "name": "number_of_reviews",
         "rawType": "int64",
         "type": "integer"
        },
        {
         "name": "last_review",
         "rawType": "object",
         "type": "unknown"
        },
        {
         "name": "reviews_per_month",
         "rawType": "float64",
         "type": "float"
        },
        {
         "name": "calculated_host_listings_count",
         "rawType": "int64",
         "type": "integer"
        },
        {
         "name": "availability_365",
         "rawType": "int64",
         "type": "integer"
        }
       ],
       "conversionMethod": "pd.DataFrame",
       "ref": "fef524cd-b0dc-4ced-8200-b9c68beef451",
       "rows": [
        [
         "4963",
         "40182247",
         "3 bdrm; free internet in pilsen/southloop",
         "306943744",
         "Joe",
         null,
         "Lower West Side",
         "41.85974",
         "-87.65797",
         "Entire home/apt",
         "200",
         "1",
         "1",
         "17-02-2020",
         "0.14",
         "8",
         "365"
        ],
        [
         "6356",
         "45438479",
         "English Lavender Room",
         "258297883",
         "Darkhan",
         null,
         "Humboldt Park",
         "41.88866",
         "-87.71965",
         "Private room",
         "44",
         "1",
         "0",
         null,
         null,
         "3",
         "1"
        ],
        [
         "4866",
         "39793384",
         "ROWULA HOUSE - WARM AFRICAN HOSPITALITY IN CHICAGO",
         "13784535",
         "Omar",
         null,
         "South Chicago",
         "41.73711",
         "-87.54816",
         "Private room",
         "45",
         "1",
         "1",
         "31-08-2020",
         "1.0",
         "1",
         "357"
        ],
        [
         "4022",
         "35942729",
         "Spacious Sedgwick Condo - Steps to Old Town",
         "200416010",
         "Saul",
         null,
         "Near North Side",
         "41.91054",
         "-87.63743",
         "Entire home/apt",
         "255",
         "3",
         "11",
         "07-09-2020",
         "1.09",
         "6",
         "342"
        ],
        [
         "132",
         "1468342",
         "Quaint Serenity in Bronzeville",
         "4081052",
         "Suzetta",
         null,
         "Grand Boulevard",
         "41.81266",
         "-87.61586",
         "Private room",
         "55",
         "2",
         "123",
         "16-02-2020",
         "1.42",
         "1",
         "364"
        ],
        [
         "4591",
         "38870766",
         "Free parking, 2 blocks from train, 2 bedroom aprtm",
         "59484991",
         "Jady And",
         null,
         "South Lawndale",
         "41.85177",
         "-87.70175",
         "Entire home/apt",
         "67",
         "1",
         "43",
         "12-09-2020",
         "3.66",
         "1",
         "177"
        ],
        [
         "1242",
         "15257492",
         "让你有如同回家的感觉",
         "96810944",
         "Lin & Peter",
         null,
         "Avondale",
         "41.93574",
         "-87.73037",
         "Private room",
         "30",
         "1",
         "26",
         "04-07-2020",
         "0.54",
         "3",
         "266"
        ],
        [
         "263",
         "3308694",
         "\"The Annex II\" Huge 1,600 Sq foot Apartment",
         "16707041",
         "Matthew",
         null,
         "Near West Side",
         "41.8867",
         "-87.64338",
         "Entire home/apt",
         "299",
         "2",
         "38",
         "16-02-2020",
         "0.78",
         "2",
         "361"
        ],
        [
         "5372",
         "41901706",
         "Loft apt, easy access to many Chicago hot spots!",
         "94999642",
         "Sarah",
         null,
         "Humboldt Park",
         "41.89845",
         "-87.70402",
         "Entire home/apt",
         "99",
         "1",
         "6",
         "05-09-2020",
         "0.83",
         "1",
         "1"
        ],
        [
         "351",
         "4503332",
         "Near The Loop and McCormick Place",
         "20059524",
         "(Email hidden by Airbnb)",
         null,
         "Armour Square",
         "41.85586",
         "-87.63569",
         "Entire home/apt",
         "100",
         "1",
         "86",
         "15-03-2020",
         "1.33",
         "3",
         "0"
        ]
       ],
       "shape": {
        "columns": 16,
        "rows": 10
       }
      },
      "text/html": [
       "<div>\n",
       "<style scoped>\n",
       "    .dataframe tbody tr th:only-of-type {\n",
       "        vertical-align: middle;\n",
       "    }\n",
       "\n",
       "    .dataframe tbody tr th {\n",
       "        vertical-align: top;\n",
       "    }\n",
       "\n",
       "    .dataframe thead th {\n",
       "        text-align: right;\n",
       "    }\n",
       "</style>\n",
       "<table border=\"1\" class=\"dataframe\">\n",
       "  <thead>\n",
       "    <tr style=\"text-align: right;\">\n",
       "      <th></th>\n",
       "      <th>id</th>\n",
       "      <th>name</th>\n",
       "      <th>host_id</th>\n",
       "      <th>host_name</th>\n",
       "      <th>neighbourhood_group</th>\n",
       "      <th>neighbourhood</th>\n",
       "      <th>latitude</th>\n",
       "      <th>longitude</th>\n",
       "      <th>room_type</th>\n",
       "      <th>price</th>\n",
       "      <th>minimum_nights</th>\n",
       "      <th>number_of_reviews</th>\n",
       "      <th>last_review</th>\n",
       "      <th>reviews_per_month</th>\n",
       "      <th>calculated_host_listings_count</th>\n",
       "      <th>availability_365</th>\n",
       "    </tr>\n",
       "  </thead>\n",
       "  <tbody>\n",
       "    <tr>\n",
       "      <th>4963</th>\n",
       "      <td>40182247</td>\n",
       "      <td>3 bdrm; free internet in pilsen/southloop</td>\n",
       "      <td>306943744</td>\n",
       "      <td>Joe</td>\n",
       "      <td>NaN</td>\n",
       "      <td>Lower West Side</td>\n",
       "      <td>41.85974</td>\n",
       "      <td>-87.65797</td>\n",
       "      <td>Entire home/apt</td>\n",
       "      <td>200</td>\n",
       "      <td>1</td>\n",
       "      <td>1</td>\n",
       "      <td>17-02-2020</td>\n",
       "      <td>0.14</td>\n",
       "      <td>8</td>\n",
       "      <td>365</td>\n",
       "    </tr>\n",
       "    <tr>\n",
       "      <th>6356</th>\n",
       "      <td>45438479</td>\n",
       "      <td>English Lavender Room</td>\n",
       "      <td>258297883</td>\n",
       "      <td>Darkhan</td>\n",
       "      <td>NaN</td>\n",
       "      <td>Humboldt Park</td>\n",
       "      <td>41.88866</td>\n",
       "      <td>-87.71965</td>\n",
       "      <td>Private room</td>\n",
       "      <td>44</td>\n",
       "      <td>1</td>\n",
       "      <td>0</td>\n",
       "      <td>NaN</td>\n",
       "      <td>NaN</td>\n",
       "      <td>3</td>\n",
       "      <td>1</td>\n",
       "    </tr>\n",
       "    <tr>\n",
       "      <th>4866</th>\n",
       "      <td>39793384</td>\n",
       "      <td>ROWULA HOUSE - WARM AFRICAN HOSPITALITY IN CHI...</td>\n",
       "      <td>13784535</td>\n",
       "      <td>Omar</td>\n",
       "      <td>NaN</td>\n",
       "      <td>South Chicago</td>\n",
       "      <td>41.73711</td>\n",
       "      <td>-87.54816</td>\n",
       "      <td>Private room</td>\n",
       "      <td>45</td>\n",
       "      <td>1</td>\n",
       "      <td>1</td>\n",
       "      <td>31-08-2020</td>\n",
       "      <td>1.00</td>\n",
       "      <td>1</td>\n",
       "      <td>357</td>\n",
       "    </tr>\n",
       "    <tr>\n",
       "      <th>4022</th>\n",
       "      <td>35942729</td>\n",
       "      <td>Spacious Sedgwick Condo - Steps to Old Town</td>\n",
       "      <td>200416010</td>\n",
       "      <td>Saul</td>\n",
       "      <td>NaN</td>\n",
       "      <td>Near North Side</td>\n",
       "      <td>41.91054</td>\n",
       "      <td>-87.63743</td>\n",
       "      <td>Entire home/apt</td>\n",
       "      <td>255</td>\n",
       "      <td>3</td>\n",
       "      <td>11</td>\n",
       "      <td>07-09-2020</td>\n",
       "      <td>1.09</td>\n",
       "      <td>6</td>\n",
       "      <td>342</td>\n",
       "    </tr>\n",
       "    <tr>\n",
       "      <th>132</th>\n",
       "      <td>1468342</td>\n",
       "      <td>Quaint Serenity in Bronzeville</td>\n",
       "      <td>4081052</td>\n",
       "      <td>Suzetta</td>\n",
       "      <td>NaN</td>\n",
       "      <td>Grand Boulevard</td>\n",
       "      <td>41.81266</td>\n",
       "      <td>-87.61586</td>\n",
       "      <td>Private room</td>\n",
       "      <td>55</td>\n",
       "      <td>2</td>\n",
       "      <td>123</td>\n",
       "      <td>16-02-2020</td>\n",
       "      <td>1.42</td>\n",
       "      <td>1</td>\n",
       "      <td>364</td>\n",
       "    </tr>\n",
       "    <tr>\n",
       "      <th>4591</th>\n",
       "      <td>38870766</td>\n",
       "      <td>Free parking, 2 blocks from train, 2 bedroom a...</td>\n",
       "      <td>59484991</td>\n",
       "      <td>Jady And</td>\n",
       "      <td>NaN</td>\n",
       "      <td>South Lawndale</td>\n",
       "      <td>41.85177</td>\n",
       "      <td>-87.70175</td>\n",
       "      <td>Entire home/apt</td>\n",
       "      <td>67</td>\n",
       "      <td>1</td>\n",
       "      <td>43</td>\n",
       "      <td>12-09-2020</td>\n",
       "      <td>3.66</td>\n",
       "      <td>1</td>\n",
       "      <td>177</td>\n",
       "    </tr>\n",
       "    <tr>\n",
       "      <th>1242</th>\n",
       "      <td>15257492</td>\n",
       "      <td>让你有如同回家的感觉</td>\n",
       "      <td>96810944</td>\n",
       "      <td>Lin &amp; Peter</td>\n",
       "      <td>NaN</td>\n",
       "      <td>Avondale</td>\n",
       "      <td>41.93574</td>\n",
       "      <td>-87.73037</td>\n",
       "      <td>Private room</td>\n",
       "      <td>30</td>\n",
       "      <td>1</td>\n",
       "      <td>26</td>\n",
       "      <td>04-07-2020</td>\n",
       "      <td>0.54</td>\n",
       "      <td>3</td>\n",
       "      <td>266</td>\n",
       "    </tr>\n",
       "    <tr>\n",
       "      <th>263</th>\n",
       "      <td>3308694</td>\n",
       "      <td>\"The Annex II\" Huge 1,600 Sq foot Apartment</td>\n",
       "      <td>16707041</td>\n",
       "      <td>Matthew</td>\n",
       "      <td>NaN</td>\n",
       "      <td>Near West Side</td>\n",
       "      <td>41.88670</td>\n",
       "      <td>-87.64338</td>\n",
       "      <td>Entire home/apt</td>\n",
       "      <td>299</td>\n",
       "      <td>2</td>\n",
       "      <td>38</td>\n",
       "      <td>16-02-2020</td>\n",
       "      <td>0.78</td>\n",
       "      <td>2</td>\n",
       "      <td>361</td>\n",
       "    </tr>\n",
       "    <tr>\n",
       "      <th>5372</th>\n",
       "      <td>41901706</td>\n",
       "      <td>Loft apt, easy access to many Chicago hot spots!</td>\n",
       "      <td>94999642</td>\n",
       "      <td>Sarah</td>\n",
       "      <td>NaN</td>\n",
       "      <td>Humboldt Park</td>\n",
       "      <td>41.89845</td>\n",
       "      <td>-87.70402</td>\n",
       "      <td>Entire home/apt</td>\n",
       "      <td>99</td>\n",
       "      <td>1</td>\n",
       "      <td>6</td>\n",
       "      <td>05-09-2020</td>\n",
       "      <td>0.83</td>\n",
       "      <td>1</td>\n",
       "      <td>1</td>\n",
       "    </tr>\n",
       "    <tr>\n",
       "      <th>351</th>\n",
       "      <td>4503332</td>\n",
       "      <td>Near The Loop and McCormick Place</td>\n",
       "      <td>20059524</td>\n",
       "      <td>(Email hidden by Airbnb)</td>\n",
       "      <td>NaN</td>\n",
       "      <td>Armour Square</td>\n",
       "      <td>41.85586</td>\n",
       "      <td>-87.63569</td>\n",
       "      <td>Entire home/apt</td>\n",
       "      <td>100</td>\n",
       "      <td>1</td>\n",
       "      <td>86</td>\n",
       "      <td>15-03-2020</td>\n",
       "      <td>1.33</td>\n",
       "      <td>3</td>\n",
       "      <td>0</td>\n",
       "    </tr>\n",
       "  </tbody>\n",
       "</table>\n",
       "</div>"
      ],
      "text/plain": [
       "            id                                               name    host_id  \\\n",
       "4963  40182247          3 bdrm; free internet in pilsen/southloop  306943744   \n",
       "6356  45438479                              English Lavender Room  258297883   \n",
       "4866  39793384  ROWULA HOUSE - WARM AFRICAN HOSPITALITY IN CHI...   13784535   \n",
       "4022  35942729        Spacious Sedgwick Condo - Steps to Old Town  200416010   \n",
       "132    1468342                     Quaint Serenity in Bronzeville    4081052   \n",
       "4591  38870766  Free parking, 2 blocks from train, 2 bedroom a...   59484991   \n",
       "1242  15257492                                         让你有如同回家的感觉   96810944   \n",
       "263    3308694        \"The Annex II\" Huge 1,600 Sq foot Apartment   16707041   \n",
       "5372  41901706   Loft apt, easy access to many Chicago hot spots!   94999642   \n",
       "351    4503332                  Near The Loop and McCormick Place   20059524   \n",
       "\n",
       "                     host_name  neighbourhood_group    neighbourhood  \\\n",
       "4963                       Joe                  NaN  Lower West Side   \n",
       "6356                   Darkhan                  NaN    Humboldt Park   \n",
       "4866                      Omar                  NaN    South Chicago   \n",
       "4022                      Saul                  NaN  Near North Side   \n",
       "132                    Suzetta                  NaN  Grand Boulevard   \n",
       "4591                  Jady And                  NaN   South Lawndale   \n",
       "1242               Lin & Peter                  NaN         Avondale   \n",
       "263                    Matthew                  NaN   Near West Side   \n",
       "5372                     Sarah                  NaN    Humboldt Park   \n",
       "351   (Email hidden by Airbnb)                  NaN    Armour Square   \n",
       "\n",
       "      latitude  longitude        room_type  price  minimum_nights  \\\n",
       "4963  41.85974  -87.65797  Entire home/apt    200               1   \n",
       "6356  41.88866  -87.71965     Private room     44               1   \n",
       "4866  41.73711  -87.54816     Private room     45               1   \n",
       "4022  41.91054  -87.63743  Entire home/apt    255               3   \n",
       "132   41.81266  -87.61586     Private room     55               2   \n",
       "4591  41.85177  -87.70175  Entire home/apt     67               1   \n",
       "1242  41.93574  -87.73037     Private room     30               1   \n",
       "263   41.88670  -87.64338  Entire home/apt    299               2   \n",
       "5372  41.89845  -87.70402  Entire home/apt     99               1   \n",
       "351   41.85586  -87.63569  Entire home/apt    100               1   \n",
       "\n",
       "      number_of_reviews last_review  reviews_per_month  \\\n",
       "4963                  1  17-02-2020               0.14   \n",
       "6356                  0         NaN                NaN   \n",
       "4866                  1  31-08-2020               1.00   \n",
       "4022                 11  07-09-2020               1.09   \n",
       "132                 123  16-02-2020               1.42   \n",
       "4591                 43  12-09-2020               3.66   \n",
       "1242                 26  04-07-2020               0.54   \n",
       "263                  38  16-02-2020               0.78   \n",
       "5372                  6  05-09-2020               0.83   \n",
       "351                  86  15-03-2020               1.33   \n",
       "\n",
       "      calculated_host_listings_count  availability_365  \n",
       "4963                               8               365  \n",
       "6356                               3                 1  \n",
       "4866                               1               357  \n",
       "4022                               6               342  \n",
       "132                                1               364  \n",
       "4591                               1               177  \n",
       "1242                               3               266  \n",
       "263                                2               361  \n",
       "5372                               1                 1  \n",
       "351                                3                 0  "
      ]
     },
     "execution_count": 9,
     "metadata": {},
     "output_type": "execute_result"
    }
   ],
   "source": [
    "live_data.head(10)"
   ]
  },
  {
   "cell_type": "code",
   "execution_count": 10,
   "metadata": {},
   "outputs": [
    {
     "name": "stdout",
     "output_type": "stream",
     "text": [
      "The shape of the main data: (6297, 16)\n"
     ]
    }
   ],
   "source": [
    "# Remained the columns which are required for the analysis:\n",
    "\n",
    "main_data = chicago_data.drop(live_data.index)\n",
    "print('The shape of the main data:',main_data.shape)"
   ]
  },
  {
   "cell_type": "markdown",
   "metadata": {},
   "source": [
    "After successfully splitting the dataset into main_data and live_data, I will be saving those as csv files for easier analysis."
   ]
  },
  {
   "cell_type": "code",
   "execution_count": 11,
   "metadata": {},
   "outputs": [],
   "source": [
    "main_data.to_csv('main_data.csv')\n",
    "live_data.to_csv('live_data.csv')"
   ]
  },
  {
   "cell_type": "code",
   "execution_count": 12,
   "metadata": {},
   "outputs": [
    {
     "data": {
      "text/plain": [
       "297"
      ]
     },
     "execution_count": 12,
     "metadata": {},
     "output_type": "execute_result"
    }
   ],
   "source": [
    "# Storing the dataset into the database:\n",
    "\n",
    "main_data.to_sql('main_data', con=engine, schema='raw', if_exists='replace', index=False)"
   ]
  },
  {
   "cell_type": "markdown",
   "metadata": {},
   "source": [
    "** As seen in the picture, the remaining data which I have labelled as 'main_data' for my analysis, has been stored in the PostgreSQL Raw Schema.**\n",
    "\n",
    "<img align=\"center\" style=\"padding-left:50px;\" src=\"figures/main_data_raw_schema.png\" width=350><br>\n"
   ]
  },
  {
   "cell_type": "code",
   "execution_count": 13,
   "metadata": {},
   "outputs": [],
   "source": [
    "# Dropping the unnecessary columns:\n",
    "\n",
    "drop_cols = [\"id\", \"host_id\", \"host_name\", \"name\", \"neighbourhood_group\", \n",
    "             \"last_review\", 'latitude', 'longitude']\n",
    "main_data.drop(drop_cols, axis=1, inplace=True)\n"
   ]
  },
  {
   "cell_type": "markdown",
   "metadata": {},
   "source": [
    "I have dropped the above as we do not need and there is no meaningful impact of any demographic information in any ML analysis."
   ]
  },
  {
   "cell_type": "code",
   "execution_count": 14,
   "metadata": {},
   "outputs": [
    {
     "data": {
      "application/vnd.microsoft.datawrangler.viewer.v0+json": {
       "columns": [
        {
         "name": "index",
         "rawType": "int64",
         "type": "integer"
        },
        {
         "name": "neighbourhood",
         "rawType": "object",
         "type": "string"
        },
        {
         "name": "room_type",
         "rawType": "object",
         "type": "string"
        },
        {
         "name": "price",
         "rawType": "int64",
         "type": "integer"
        },
        {
         "name": "minimum_nights",
         "rawType": "int64",
         "type": "integer"
        },
        {
         "name": "number_of_reviews",
         "rawType": "int64",
         "type": "integer"
        },
        {
         "name": "reviews_per_month",
         "rawType": "float64",
         "type": "float"
        },
        {
         "name": "calculated_host_listings_count",
         "rawType": "int64",
         "type": "integer"
        },
        {
         "name": "availability_365",
         "rawType": "int64",
         "type": "integer"
        }
       ],
       "conversionMethod": "pd.DataFrame",
       "ref": "6e4bf83e-e150-41a9-95d7-09f8b987cafb",
       "rows": [
        [
         "0",
         "Hyde Park",
         "Private room",
         "60",
         "2",
         "178",
         "2.56",
         "1",
         "353"
        ],
        [
         "1",
         "South Lawndale",
         "Entire home/apt",
         "105",
         "2",
         "395",
         "2.81",
         "1",
         "155"
        ],
        [
         "2",
         "West Town",
         "Entire home/apt",
         "60",
         "2",
         "384",
         "2.81",
         "1",
         "321"
        ],
        [
         "3",
         "Lincoln Park",
         "Entire home/apt",
         "65",
         "4",
         "49",
         "0.63",
         "9",
         "300"
        ],
        [
         "4",
         "Hyde Park",
         "Private room",
         "21",
         "1",
         "44",
         "0.61",
         "5",
         "168"
        ],
        [
         "5",
         "Lincoln Park",
         "Entire home/apt",
         "115",
         "4",
         "19",
         "0.24",
         "9",
         "325"
        ],
        [
         "6",
         "Near North Side",
         "Entire home/apt",
         "99",
         "5",
         "9",
         "0.13",
         "1",
         "316"
        ],
        [
         "7",
         "Lincoln Park",
         "Private room",
         "289",
         "2",
         "4",
         "0.06",
         "1",
         "179"
        ],
        [
         "8",
         "West Town",
         "Entire home/apt",
         "99",
         "91",
         "9",
         "0.11",
         "2",
         "365"
        ],
        [
         "9",
         "Lincoln Park",
         "Entire home/apt",
         "112",
         "32",
         "37",
         "0.29",
         "4",
         "180"
        ]
       ],
       "shape": {
        "columns": 8,
        "rows": 10
       }
      },
      "text/html": [
       "<div>\n",
       "<style scoped>\n",
       "    .dataframe tbody tr th:only-of-type {\n",
       "        vertical-align: middle;\n",
       "    }\n",
       "\n",
       "    .dataframe tbody tr th {\n",
       "        vertical-align: top;\n",
       "    }\n",
       "\n",
       "    .dataframe thead th {\n",
       "        text-align: right;\n",
       "    }\n",
       "</style>\n",
       "<table border=\"1\" class=\"dataframe\">\n",
       "  <thead>\n",
       "    <tr style=\"text-align: right;\">\n",
       "      <th></th>\n",
       "      <th>neighbourhood</th>\n",
       "      <th>room_type</th>\n",
       "      <th>price</th>\n",
       "      <th>minimum_nights</th>\n",
       "      <th>number_of_reviews</th>\n",
       "      <th>reviews_per_month</th>\n",
       "      <th>calculated_host_listings_count</th>\n",
       "      <th>availability_365</th>\n",
       "    </tr>\n",
       "  </thead>\n",
       "  <tbody>\n",
       "    <tr>\n",
       "      <th>0</th>\n",
       "      <td>Hyde Park</td>\n",
       "      <td>Private room</td>\n",
       "      <td>60</td>\n",
       "      <td>2</td>\n",
       "      <td>178</td>\n",
       "      <td>2.56</td>\n",
       "      <td>1</td>\n",
       "      <td>353</td>\n",
       "    </tr>\n",
       "    <tr>\n",
       "      <th>1</th>\n",
       "      <td>South Lawndale</td>\n",
       "      <td>Entire home/apt</td>\n",
       "      <td>105</td>\n",
       "      <td>2</td>\n",
       "      <td>395</td>\n",
       "      <td>2.81</td>\n",
       "      <td>1</td>\n",
       "      <td>155</td>\n",
       "    </tr>\n",
       "    <tr>\n",
       "      <th>2</th>\n",
       "      <td>West Town</td>\n",
       "      <td>Entire home/apt</td>\n",
       "      <td>60</td>\n",
       "      <td>2</td>\n",
       "      <td>384</td>\n",
       "      <td>2.81</td>\n",
       "      <td>1</td>\n",
       "      <td>321</td>\n",
       "    </tr>\n",
       "    <tr>\n",
       "      <th>3</th>\n",
       "      <td>Lincoln Park</td>\n",
       "      <td>Entire home/apt</td>\n",
       "      <td>65</td>\n",
       "      <td>4</td>\n",
       "      <td>49</td>\n",
       "      <td>0.63</td>\n",
       "      <td>9</td>\n",
       "      <td>300</td>\n",
       "    </tr>\n",
       "    <tr>\n",
       "      <th>4</th>\n",
       "      <td>Hyde Park</td>\n",
       "      <td>Private room</td>\n",
       "      <td>21</td>\n",
       "      <td>1</td>\n",
       "      <td>44</td>\n",
       "      <td>0.61</td>\n",
       "      <td>5</td>\n",
       "      <td>168</td>\n",
       "    </tr>\n",
       "    <tr>\n",
       "      <th>5</th>\n",
       "      <td>Lincoln Park</td>\n",
       "      <td>Entire home/apt</td>\n",
       "      <td>115</td>\n",
       "      <td>4</td>\n",
       "      <td>19</td>\n",
       "      <td>0.24</td>\n",
       "      <td>9</td>\n",
       "      <td>325</td>\n",
       "    </tr>\n",
       "    <tr>\n",
       "      <th>6</th>\n",
       "      <td>Near North Side</td>\n",
       "      <td>Entire home/apt</td>\n",
       "      <td>99</td>\n",
       "      <td>5</td>\n",
       "      <td>9</td>\n",
       "      <td>0.13</td>\n",
       "      <td>1</td>\n",
       "      <td>316</td>\n",
       "    </tr>\n",
       "    <tr>\n",
       "      <th>7</th>\n",
       "      <td>Lincoln Park</td>\n",
       "      <td>Private room</td>\n",
       "      <td>289</td>\n",
       "      <td>2</td>\n",
       "      <td>4</td>\n",
       "      <td>0.06</td>\n",
       "      <td>1</td>\n",
       "      <td>179</td>\n",
       "    </tr>\n",
       "    <tr>\n",
       "      <th>8</th>\n",
       "      <td>West Town</td>\n",
       "      <td>Entire home/apt</td>\n",
       "      <td>99</td>\n",
       "      <td>91</td>\n",
       "      <td>9</td>\n",
       "      <td>0.11</td>\n",
       "      <td>2</td>\n",
       "      <td>365</td>\n",
       "    </tr>\n",
       "    <tr>\n",
       "      <th>9</th>\n",
       "      <td>Lincoln Park</td>\n",
       "      <td>Entire home/apt</td>\n",
       "      <td>112</td>\n",
       "      <td>32</td>\n",
       "      <td>37</td>\n",
       "      <td>0.29</td>\n",
       "      <td>4</td>\n",
       "      <td>180</td>\n",
       "    </tr>\n",
       "  </tbody>\n",
       "</table>\n",
       "</div>"
      ],
      "text/plain": [
       "     neighbourhood        room_type  price  minimum_nights  number_of_reviews  \\\n",
       "0        Hyde Park     Private room     60               2                178   \n",
       "1   South Lawndale  Entire home/apt    105               2                395   \n",
       "2        West Town  Entire home/apt     60               2                384   \n",
       "3     Lincoln Park  Entire home/apt     65               4                 49   \n",
       "4        Hyde Park     Private room     21               1                 44   \n",
       "5     Lincoln Park  Entire home/apt    115               4                 19   \n",
       "6  Near North Side  Entire home/apt     99               5                  9   \n",
       "7     Lincoln Park     Private room    289               2                  4   \n",
       "8        West Town  Entire home/apt     99              91                  9   \n",
       "9     Lincoln Park  Entire home/apt    112              32                 37   \n",
       "\n",
       "   reviews_per_month  calculated_host_listings_count  availability_365  \n",
       "0               2.56                               1               353  \n",
       "1               2.81                               1               155  \n",
       "2               2.81                               1               321  \n",
       "3               0.63                               9               300  \n",
       "4               0.61                               5               168  \n",
       "5               0.24                               9               325  \n",
       "6               0.13                               1               316  \n",
       "7               0.06                               1               179  \n",
       "8               0.11                               2               365  \n",
       "9               0.29                               4               180  "
      ]
     },
     "execution_count": 14,
     "metadata": {},
     "output_type": "execute_result"
    }
   ],
   "source": [
    "main_data.head(10)"
   ]
  },
  {
   "cell_type": "markdown",
   "metadata": {},
   "source": [
    "The next steps are to clean the data and feature engineering before moving onto the ML model selection and predictions."
   ]
  },
  {
   "cell_type": "code",
   "execution_count": 15,
   "metadata": {},
   "outputs": [
    {
     "data": {
      "text/plain": [
       "neighbourhood                        0\n",
       "room_type                            0\n",
       "price                                0\n",
       "minimum_nights                       0\n",
       "number_of_reviews                    0\n",
       "reviews_per_month                 1114\n",
       "calculated_host_listings_count       0\n",
       "availability_365                     0\n",
       "dtype: int64"
      ]
     },
     "execution_count": 15,
     "metadata": {},
     "output_type": "execute_result"
    }
   ],
   "source": [
    "# Checking for the missing values in the dataset:\n",
    "\n",
    "main_data.isnull().sum()"
   ]
  },
  {
   "cell_type": "markdown",
   "metadata": {},
   "source": [
    "As we can see that there are over a thousand missing values in `reviews_per_month` column, which if dropped can create a disturbance in the model while perfforming predictions. So it is better to replace those missing values with the median of the values in that column, beacuse the column gives us the average number of reviews per month which cannot be treated with mean."
   ]
  },
  {
   "cell_type": "code",
   "execution_count": 16,
   "metadata": {},
   "outputs": [
    {
     "data": {
      "text/plain": [
       "neighbourhood                     0\n",
       "room_type                         0\n",
       "price                             0\n",
       "minimum_nights                    0\n",
       "number_of_reviews                 0\n",
       "reviews_per_month                 0\n",
       "calculated_host_listings_count    0\n",
       "availability_365                  0\n",
       "dtype: int64"
      ]
     },
     "execution_count": 16,
     "metadata": {},
     "output_type": "execute_result"
    }
   ],
   "source": [
    "# Handling the missing values in the reviews_per_month column:\n",
    "\n",
    "main_data['reviews_per_month'] = main_data['reviews_per_month'].fillna(main_data['reviews_per_month'].median())\n",
    "\n",
    "# Checking the missing values after handling:\n",
    "\n",
    "main_data.isnull().sum()"
   ]
  },
  {
   "cell_type": "code",
   "execution_count": 17,
   "metadata": {},
   "outputs": [
    {
     "data": {
      "text/plain": [
       "neighbourhood                      object\n",
       "room_type                          object\n",
       "price                               int64\n",
       "minimum_nights                      int64\n",
       "number_of_reviews                   int64\n",
       "reviews_per_month                 float64\n",
       "calculated_host_listings_count      int64\n",
       "availability_365                    int64\n",
       "dtype: object"
      ]
     },
     "execution_count": 17,
     "metadata": {},
     "output_type": "execute_result"
    }
   ],
   "source": [
    "# Checking for Categorical variables in the dataset:\n",
    "\n",
    "main_data.dtypes"
   ]
  },
  {
   "cell_type": "markdown",
   "metadata": {},
   "source": [
    "As ML models cannot process categorical data types, which in our case are `room_type`, a.d `neighbourhood`. So those columns need to be converted into numerical columns, because of which I am using the Label Encoding."
   ]
  },
  {
   "cell_type": "code",
   "execution_count": 18,
   "metadata": {},
   "outputs": [
    {
     "name": "stdout",
     "output_type": "stream",
     "text": [
      "Encoding is done !!!\n"
     ]
    }
   ],
   "source": [
    "# Encoding the object columns:\n",
    "\n",
    "from sklearn.preprocessing import LabelEncoder\n",
    "\n",
    "label_encoders = {}\n",
    "cat_cols = ['neighbourhood', 'room_type']\n",
    "\n",
    "for col in cat_cols:\n",
    "    le = LabelEncoder()\n",
    "    main_data[col] = le.fit_transform(main_data[col])\n",
    "    label_encoders[col] = le\n",
    "\n",
    "print('Encoding is done !!!')"
   ]
  },
  {
   "cell_type": "code",
   "execution_count": 19,
   "metadata": {},
   "outputs": [
    {
     "data": {
      "text/plain": [
       "['label_encoders.pkl']"
      ]
     },
     "execution_count": 19,
     "metadata": {},
     "output_type": "execute_result"
    }
   ],
   "source": [
    "import joblib\n",
    "\n",
    "joblib.dump(label_encoders, 'label_encoders.pkl')"
   ]
  },
  {
   "cell_type": "markdown",
   "metadata": {},
   "source": [
    "I have also saved the label encoder to ensure it is used in the live data process to avoid any issues while applying transformations in the live data."
   ]
  },
  {
   "cell_type": "code",
   "execution_count": 20,
   "metadata": {},
   "outputs": [
    {
     "name": "stdout",
     "output_type": "stream",
     "text": [
      "<class 'pandas.core.frame.DataFrame'>\n",
      "Index: 6297 entries, 0 to 6396\n",
      "Data columns (total 8 columns):\n",
      " #   Column                          Non-Null Count  Dtype  \n",
      "---  ------                          --------------  -----  \n",
      " 0   neighbourhood                   6297 non-null   int32  \n",
      " 1   room_type                       6297 non-null   int32  \n",
      " 2   price                           6297 non-null   int64  \n",
      " 3   minimum_nights                  6297 non-null   int64  \n",
      " 4   number_of_reviews               6297 non-null   int64  \n",
      " 5   reviews_per_month               6297 non-null   float64\n",
      " 6   calculated_host_listings_count  6297 non-null   int64  \n",
      " 7   availability_365                6297 non-null   int64  \n",
      "dtypes: float64(1), int32(2), int64(5)\n",
      "memory usage: 393.6 KB\n"
     ]
    }
   ],
   "source": [
    "main_data.info()"
   ]
  },
  {
   "cell_type": "code",
   "execution_count": 21,
   "metadata": {},
   "outputs": [],
   "source": [
    "# Feature Engineering: Creating new features for the further analysis:\n",
    "\n",
    "main_data[\"reviews_per_night\"] = main_data[\"number_of_reviews\"] / main_data[\"minimum_nights\"]\n",
    "main_data[\"availability_ratio\"] = main_data[\"availability_365\"] / 365\n",
    "main_data[\"host_listings_ratio\"] = main_data[\"calculated_host_listings_count\"] / main_data[\"number_of_reviews\"].replace(0, 1)\n",
    "main_data[\"price_per_review\"] = main_data[\"price\"] / main_data[\"number_of_reviews\"].replace(0, 1)"
   ]
  },
  {
   "cell_type": "markdown",
   "metadata": {},
   "source": [
    "To improve model performance, I have created new features that provide additional insights:\n",
    "1. **`reviews_per_night`** = `number_of_reviews / minimum_nights`\n",
    "2. **`availability_ratio`** = `availability_365 / 365`\n",
    "3. **`host_listings_ratio`** = `calculated_host_listings_count / number_of_reviews`\n",
    "4. **`price_per_review`** = `price / number_of_reviews`\n",
    "\n",
    "## **Why These Features Matter?**\n",
    "- **`reviews_per_night`** helps assess guest engagement.\n",
    "- **`availability_ratio`** shows how frequently listings are open for booking.\n",
    "- **`host_listings_ratio`** helps understand if a host has multiple listings.\n",
    "- **`price_per_review`** indicates if higher-priced listings receive more reviews.\n",
    "\n",
    "\n",
    "\n",
    "I will be uploading this dataset into the database, after adding the predictions of the price, right after finding the best optimal model for the analysis."
   ]
  },
  {
   "cell_type": "code",
   "execution_count": 22,
   "metadata": {},
   "outputs": [
    {
     "data": {
      "application/vnd.microsoft.datawrangler.viewer.v0+json": {
       "columns": [
        {
         "name": "index",
         "rawType": "int64",
         "type": "integer"
        },
        {
         "name": "neighbourhood",
         "rawType": "int32",
         "type": "integer"
        },
        {
         "name": "room_type",
         "rawType": "int32",
         "type": "integer"
        },
        {
         "name": "price",
         "rawType": "int64",
         "type": "integer"
        },
        {
         "name": "minimum_nights",
         "rawType": "int64",
         "type": "integer"
        },
        {
         "name": "number_of_reviews",
         "rawType": "int64",
         "type": "integer"
        },
        {
         "name": "reviews_per_month",
         "rawType": "float64",
         "type": "float"
        },
        {
         "name": "calculated_host_listings_count",
         "rawType": "int64",
         "type": "integer"
        },
        {
         "name": "availability_365",
         "rawType": "int64",
         "type": "integer"
        },
        {
         "name": "reviews_per_night",
         "rawType": "float64",
         "type": "float"
        },
        {
         "name": "availability_ratio",
         "rawType": "float64",
         "type": "float"
        },
        {
         "name": "host_listings_ratio",
         "rawType": "float64",
         "type": "float"
        },
        {
         "name": "price_per_review",
         "rawType": "float64",
         "type": "float"
        }
       ],
       "conversionMethod": "pd.DataFrame",
       "ref": "c89a3fb6-cf44-457d-b1d6-ea40c7a0b565",
       "rows": [
        [
         "0",
         "33",
         "2",
         "60",
         "2",
         "178",
         "2.56",
         "1",
         "353",
         "89.0",
         "0.9671232876712329",
         "0.0056179775280898875",
         "0.33707865168539325"
        ],
        [
         "1",
         "64",
         "0",
         "105",
         "2",
         "395",
         "2.81",
         "1",
         "155",
         "197.5",
         "0.4246575342465753",
         "0.002531645569620253",
         "0.26582278481012656"
        ],
        [
         "2",
         "75",
         "0",
         "60",
         "2",
         "384",
         "2.81",
         "1",
         "321",
         "192.0",
         "0.8794520547945206",
         "0.0026041666666666665",
         "0.15625"
        ],
        [
         "3",
         "38",
         "0",
         "65",
         "4",
         "49",
         "0.63",
         "9",
         "300",
         "12.25",
         "0.821917808219178",
         "0.1836734693877551",
         "1.3265306122448979"
        ],
        [
         "4",
         "33",
         "2",
         "21",
         "1",
         "44",
         "0.61",
         "5",
         "168",
         "44.0",
         "0.4602739726027397",
         "0.11363636363636363",
         "0.4772727272727273"
        ],
        [
         "5",
         "38",
         "0",
         "115",
         "4",
         "19",
         "0.24",
         "9",
         "325",
         "4.75",
         "0.8904109589041096",
         "0.47368421052631576",
         "6.052631578947368"
        ],
        [
         "6",
         "47",
         "0",
         "99",
         "5",
         "9",
         "0.13",
         "1",
         "316",
         "1.8",
         "0.8657534246575342",
         "0.1111111111111111",
         "11.0"
        ],
        [
         "7",
         "38",
         "2",
         "289",
         "2",
         "4",
         "0.06",
         "1",
         "179",
         "2.0",
         "0.4904109589041096",
         "0.25",
         "72.25"
        ],
        [
         "8",
         "75",
         "0",
         "99",
         "91",
         "9",
         "0.11",
         "2",
         "365",
         "0.0989010989010989",
         "1.0",
         "0.2222222222222222",
         "11.0"
        ],
        [
         "9",
         "38",
         "0",
         "112",
         "32",
         "37",
         "0.29",
         "4",
         "180",
         "1.15625",
         "0.4931506849315068",
         "0.10810810810810811",
         "3.027027027027027"
        ]
       ],
       "shape": {
        "columns": 12,
        "rows": 10
       }
      },
      "text/html": [
       "<div>\n",
       "<style scoped>\n",
       "    .dataframe tbody tr th:only-of-type {\n",
       "        vertical-align: middle;\n",
       "    }\n",
       "\n",
       "    .dataframe tbody tr th {\n",
       "        vertical-align: top;\n",
       "    }\n",
       "\n",
       "    .dataframe thead th {\n",
       "        text-align: right;\n",
       "    }\n",
       "</style>\n",
       "<table border=\"1\" class=\"dataframe\">\n",
       "  <thead>\n",
       "    <tr style=\"text-align: right;\">\n",
       "      <th></th>\n",
       "      <th>neighbourhood</th>\n",
       "      <th>room_type</th>\n",
       "      <th>price</th>\n",
       "      <th>minimum_nights</th>\n",
       "      <th>number_of_reviews</th>\n",
       "      <th>reviews_per_month</th>\n",
       "      <th>calculated_host_listings_count</th>\n",
       "      <th>availability_365</th>\n",
       "      <th>reviews_per_night</th>\n",
       "      <th>availability_ratio</th>\n",
       "      <th>host_listings_ratio</th>\n",
       "      <th>price_per_review</th>\n",
       "    </tr>\n",
       "  </thead>\n",
       "  <tbody>\n",
       "    <tr>\n",
       "      <th>0</th>\n",
       "      <td>33</td>\n",
       "      <td>2</td>\n",
       "      <td>60</td>\n",
       "      <td>2</td>\n",
       "      <td>178</td>\n",
       "      <td>2.56</td>\n",
       "      <td>1</td>\n",
       "      <td>353</td>\n",
       "      <td>89.000000</td>\n",
       "      <td>0.967123</td>\n",
       "      <td>0.005618</td>\n",
       "      <td>0.337079</td>\n",
       "    </tr>\n",
       "    <tr>\n",
       "      <th>1</th>\n",
       "      <td>64</td>\n",
       "      <td>0</td>\n",
       "      <td>105</td>\n",
       "      <td>2</td>\n",
       "      <td>395</td>\n",
       "      <td>2.81</td>\n",
       "      <td>1</td>\n",
       "      <td>155</td>\n",
       "      <td>197.500000</td>\n",
       "      <td>0.424658</td>\n",
       "      <td>0.002532</td>\n",
       "      <td>0.265823</td>\n",
       "    </tr>\n",
       "    <tr>\n",
       "      <th>2</th>\n",
       "      <td>75</td>\n",
       "      <td>0</td>\n",
       "      <td>60</td>\n",
       "      <td>2</td>\n",
       "      <td>384</td>\n",
       "      <td>2.81</td>\n",
       "      <td>1</td>\n",
       "      <td>321</td>\n",
       "      <td>192.000000</td>\n",
       "      <td>0.879452</td>\n",
       "      <td>0.002604</td>\n",
       "      <td>0.156250</td>\n",
       "    </tr>\n",
       "    <tr>\n",
       "      <th>3</th>\n",
       "      <td>38</td>\n",
       "      <td>0</td>\n",
       "      <td>65</td>\n",
       "      <td>4</td>\n",
       "      <td>49</td>\n",
       "      <td>0.63</td>\n",
       "      <td>9</td>\n",
       "      <td>300</td>\n",
       "      <td>12.250000</td>\n",
       "      <td>0.821918</td>\n",
       "      <td>0.183673</td>\n",
       "      <td>1.326531</td>\n",
       "    </tr>\n",
       "    <tr>\n",
       "      <th>4</th>\n",
       "      <td>33</td>\n",
       "      <td>2</td>\n",
       "      <td>21</td>\n",
       "      <td>1</td>\n",
       "      <td>44</td>\n",
       "      <td>0.61</td>\n",
       "      <td>5</td>\n",
       "      <td>168</td>\n",
       "      <td>44.000000</td>\n",
       "      <td>0.460274</td>\n",
       "      <td>0.113636</td>\n",
       "      <td>0.477273</td>\n",
       "    </tr>\n",
       "    <tr>\n",
       "      <th>5</th>\n",
       "      <td>38</td>\n",
       "      <td>0</td>\n",
       "      <td>115</td>\n",
       "      <td>4</td>\n",
       "      <td>19</td>\n",
       "      <td>0.24</td>\n",
       "      <td>9</td>\n",
       "      <td>325</td>\n",
       "      <td>4.750000</td>\n",
       "      <td>0.890411</td>\n",
       "      <td>0.473684</td>\n",
       "      <td>6.052632</td>\n",
       "    </tr>\n",
       "    <tr>\n",
       "      <th>6</th>\n",
       "      <td>47</td>\n",
       "      <td>0</td>\n",
       "      <td>99</td>\n",
       "      <td>5</td>\n",
       "      <td>9</td>\n",
       "      <td>0.13</td>\n",
       "      <td>1</td>\n",
       "      <td>316</td>\n",
       "      <td>1.800000</td>\n",
       "      <td>0.865753</td>\n",
       "      <td>0.111111</td>\n",
       "      <td>11.000000</td>\n",
       "    </tr>\n",
       "    <tr>\n",
       "      <th>7</th>\n",
       "      <td>38</td>\n",
       "      <td>2</td>\n",
       "      <td>289</td>\n",
       "      <td>2</td>\n",
       "      <td>4</td>\n",
       "      <td>0.06</td>\n",
       "      <td>1</td>\n",
       "      <td>179</td>\n",
       "      <td>2.000000</td>\n",
       "      <td>0.490411</td>\n",
       "      <td>0.250000</td>\n",
       "      <td>72.250000</td>\n",
       "    </tr>\n",
       "    <tr>\n",
       "      <th>8</th>\n",
       "      <td>75</td>\n",
       "      <td>0</td>\n",
       "      <td>99</td>\n",
       "      <td>91</td>\n",
       "      <td>9</td>\n",
       "      <td>0.11</td>\n",
       "      <td>2</td>\n",
       "      <td>365</td>\n",
       "      <td>0.098901</td>\n",
       "      <td>1.000000</td>\n",
       "      <td>0.222222</td>\n",
       "      <td>11.000000</td>\n",
       "    </tr>\n",
       "    <tr>\n",
       "      <th>9</th>\n",
       "      <td>38</td>\n",
       "      <td>0</td>\n",
       "      <td>112</td>\n",
       "      <td>32</td>\n",
       "      <td>37</td>\n",
       "      <td>0.29</td>\n",
       "      <td>4</td>\n",
       "      <td>180</td>\n",
       "      <td>1.156250</td>\n",
       "      <td>0.493151</td>\n",
       "      <td>0.108108</td>\n",
       "      <td>3.027027</td>\n",
       "    </tr>\n",
       "  </tbody>\n",
       "</table>\n",
       "</div>"
      ],
      "text/plain": [
       "   neighbourhood  room_type  price  minimum_nights  number_of_reviews  \\\n",
       "0             33          2     60               2                178   \n",
       "1             64          0    105               2                395   \n",
       "2             75          0     60               2                384   \n",
       "3             38          0     65               4                 49   \n",
       "4             33          2     21               1                 44   \n",
       "5             38          0    115               4                 19   \n",
       "6             47          0     99               5                  9   \n",
       "7             38          2    289               2                  4   \n",
       "8             75          0     99              91                  9   \n",
       "9             38          0    112              32                 37   \n",
       "\n",
       "   reviews_per_month  calculated_host_listings_count  availability_365  \\\n",
       "0               2.56                               1               353   \n",
       "1               2.81                               1               155   \n",
       "2               2.81                               1               321   \n",
       "3               0.63                               9               300   \n",
       "4               0.61                               5               168   \n",
       "5               0.24                               9               325   \n",
       "6               0.13                               1               316   \n",
       "7               0.06                               1               179   \n",
       "8               0.11                               2               365   \n",
       "9               0.29                               4               180   \n",
       "\n",
       "   reviews_per_night  availability_ratio  host_listings_ratio  \\\n",
       "0          89.000000            0.967123             0.005618   \n",
       "1         197.500000            0.424658             0.002532   \n",
       "2         192.000000            0.879452             0.002604   \n",
       "3          12.250000            0.821918             0.183673   \n",
       "4          44.000000            0.460274             0.113636   \n",
       "5           4.750000            0.890411             0.473684   \n",
       "6           1.800000            0.865753             0.111111   \n",
       "7           2.000000            0.490411             0.250000   \n",
       "8           0.098901            1.000000             0.222222   \n",
       "9           1.156250            0.493151             0.108108   \n",
       "\n",
       "   price_per_review  \n",
       "0          0.337079  \n",
       "1          0.265823  \n",
       "2          0.156250  \n",
       "3          1.326531  \n",
       "4          0.477273  \n",
       "5          6.052632  \n",
       "6         11.000000  \n",
       "7         72.250000  \n",
       "8         11.000000  \n",
       "9          3.027027  "
      ]
     },
     "execution_count": 22,
     "metadata": {},
     "output_type": "execute_result"
    }
   ],
   "source": [
    "main_data.head(10)"
   ]
  },
  {
   "cell_type": "markdown",
   "metadata": {},
   "source": [
    "After all the process of feature engineering, it is time to split the data for training, testing and validation, and for that, I need to distinguish the features and the target variables."
   ]
  },
  {
   "cell_type": "code",
   "execution_count": 23,
   "metadata": {},
   "outputs": [],
   "source": [
    "# Splitting the data into X and y:\n",
    "\n",
    "x = main_data.drop(columns=['price'], axis=1)\n",
    "y = main_data['price']"
   ]
  },
  {
   "cell_type": "code",
   "execution_count": 24,
   "metadata": {},
   "outputs": [],
   "source": [
    "# Feature Scaling of the Numerical Columns:\n",
    "\n",
    "from sklearn.preprocessing import StandardScaler\n",
    "\n",
    "scaler = StandardScaler()\n",
    "x = scaler.fit_transform(x)"
   ]
  },
  {
   "cell_type": "markdown",
   "metadata": {},
   "source": [
    "Features like `price` and `minimum_nights` have different **value ranges**. Standardization guarantees that all features contribute **equally** to the model. For that reason, I have applied the scaling to\n",
    "  - `minimum_nights`\n",
    "  - `number_of_reviews`\n",
    "  - `reviews_per_month`\n",
    "  - `availability_365`\n",
    "  - Engineered features (`reviews_per_night`, `host_listings_ratio`, etc.)"
   ]
  },
  {
   "cell_type": "code",
   "execution_count": 41,
   "metadata": {},
   "outputs": [
    {
     "data": {
      "text/plain": [
       "['scaler.pkl']"
      ]
     },
     "execution_count": 41,
     "metadata": {},
     "output_type": "execute_result"
    }
   ],
   "source": [
    "# Saving the scaler:\n",
    "\n",
    "import joblib\n",
    "\n",
    "joblib.dump(scaler, 'scaler.pkl')"
   ]
  },
  {
   "cell_type": "markdown",
   "metadata": {},
   "source": [
    "I have saved the standard scaler as a pickjle file for the same reason i have saved the label encoders, which is to use it on the live data while applying transformations by using User-Defined Functions."
   ]
  },
  {
   "cell_type": "code",
   "execution_count": 25,
   "metadata": {},
   "outputs": [],
   "source": [
    "# Splitting the data in a three-way split:\n",
    "\n",
    "from sklearn.model_selection import train_test_split\n",
    "\n",
    "x_train, x_temp, y_train, y_temp = train_test_split(x, y, test_size=0.3, random_state=42)\n",
    "x_test, x_val, y_test, y_val = train_test_split(x_temp, y_temp, test_size=0.5, random_state=42)"
   ]
  },
  {
   "cell_type": "markdown",
   "metadata": {},
   "source": [
    "The dataset must be divided into **training, validation, and test sets** to evaluate model performance, to prevent **overfitting** and ensure **generalization** to the new data."
   ]
  },
  {
   "cell_type": "markdown",
   "metadata": {},
   "source": [
    "#### **Finding an Optimal Model:**\n",
    "\n",
    "I have chosen three models to find the optimal model, which are:\n",
    "\n",
    "1. `Linear Regression`: As it is the basic regression model for predictions and simple to use.\n",
    "2. `Random Forest Regressor`: As it can capture complex relationships and uses multiple decision trees for prediction.\n",
    "3. `Gradient Boosting Regressor`: As it builds trees sequentially and works well on the structured data, also reducing errors better than other models."
   ]
  },
  {
   "cell_type": "code",
   "execution_count": 26,
   "metadata": {},
   "outputs": [
    {
     "name": "stdout",
     "output_type": "stream",
     "text": [
      "Linear Regression R2 Score: 0.2429166684236027\n",
      "Linear Regression Mean Absolute Error: 78.51449733440028\n"
     ]
    }
   ],
   "source": [
    "# Using Linear Regression:\n",
    "\n",
    "from sklearn.linear_model import LinearRegression\n",
    "from sklearn.metrics import mean_absolute_error, r2_score\n",
    "\n",
    "model_1 = LinearRegression()\n",
    "model_1.fit(x_train, y_train)\n",
    "y_pred = model_1.predict(x_test)\n",
    "print(f\"Linear Regression R2 Score: {model_1.score(x_test, y_test)}\")\n",
    "print(f\"Linear Regression Mean Absolute Error: {mean_absolute_error(y_test, y_pred)}\")"
   ]
  },
  {
   "cell_type": "code",
   "execution_count": 27,
   "metadata": {},
   "outputs": [
    {
     "name": "stdout",
     "output_type": "stream",
     "text": [
      "Random Forest R2 Score: 0.7380580730373036\n",
      "Random Forest Mean Absolute Error: 16.65878306878307\n"
     ]
    }
   ],
   "source": [
    "# Using Random Forest:\n",
    "\n",
    "from sklearn.ensemble import RandomForestRegressor\n",
    "\n",
    "model_2 = RandomForestRegressor(n_estimators=100, random_state=42)\n",
    "model_2.fit(x_train, y_train)\n",
    "y_pred = model_2.predict(x_test)\n",
    "print(f\"Random Forest R2 Score: {model_2.score(x_test, y_test)}\")\n",
    "print(f\"Random Forest Mean Absolute Error: {mean_absolute_error(y_test, y_pred)}\")"
   ]
  },
  {
   "cell_type": "code",
   "execution_count": 28,
   "metadata": {},
   "outputs": [
    {
     "name": "stdout",
     "output_type": "stream",
     "text": [
      "Gradient Boosting R2 Score: 0.8290174224037561\n",
      "Gradient Boosting Mean Absolute Error: 22.755809930303975\n"
     ]
    }
   ],
   "source": [
    "# Using Gradient Boosting:\n",
    "\n",
    "from sklearn.ensemble import GradientBoostingRegressor\n",
    "\n",
    "model_3 = GradientBoostingRegressor(n_estimators=100, random_state=42)\n",
    "model_3.fit(x_train, y_train)\n",
    "y_pred = model_3.predict(x_test)\n",
    "print(f\"Gradient Boosting R2 Score: {model_3.score(x_test, y_test)}\")\n",
    "print(f\"Gradient Boosting Mean Absolute Error: {mean_absolute_error(y_test, y_pred)}\")"
   ]
  },
  {
   "cell_type": "markdown",
   "metadata": {},
   "source": [
    "Based on the R2-Score and MAE metrics results on the test set, I think that the Gradient Boosting Algorithm is the optimal model for the data as the balance between R2-score and MAE is best in the Gradient Boosting Algorithm. \n",
    "\n",
    "\n",
    "But we will know for sure if it is the optimal model or not after testing on the validation set."
   ]
  },
  {
   "cell_type": "code",
   "execution_count": 29,
   "metadata": {},
   "outputs": [
    {
     "name": "stdout",
     "output_type": "stream",
     "text": [
      "Gradient Boosting R2 Score: 0.9505338906970745\n",
      "Gradient Boosting Mean Absolute Error: 19.253982622985355\n"
     ]
    }
   ],
   "source": [
    "# Testing the model on the validation set:\n",
    "\n",
    "y_pred = model_3.predict(x_val)\n",
    "print(f\"Gradient Boosting R2 Score: {model_3.score(x_val, y_val)}\")\n",
    "print(f\"Gradient Boosting Mean Absolute Error: {mean_absolute_error(y_val, y_pred)}\")"
   ]
  },
  {
   "cell_type": "code",
   "execution_count": 30,
   "metadata": {},
   "outputs": [
    {
     "name": "stdout",
     "output_type": "stream",
     "text": [
      "Random Forest R2 Score: 0.9331342338800159\n",
      "Random Forest Mean Absolute Error: 11.718105820105821\n"
     ]
    }
   ],
   "source": [
    "# Testing the model on the validation set for Random Forest:\n",
    "\n",
    "y_pred = model_2.predict(x_val)\n",
    "print(f\"Random Forest R2 Score: {model_2.score(x_val, y_val)}\")\n",
    "print(f\"Random Forest Mean Absolute Error: {mean_absolute_error(y_val, y_pred)}\")"
   ]
  },
  {
   "cell_type": "code",
   "execution_count": 31,
   "metadata": {},
   "outputs": [
    {
     "name": "stdout",
     "output_type": "stream",
     "text": [
      "Linear Regression R2 Score: 0.8035231914600088\n",
      "Linear Regression Mean Absolute Error: 70.98419897540276\n"
     ]
    }
   ],
   "source": [
    "# Testing the model on the validation set for Linear Regression:\n",
    "\n",
    "y_pred = model_1.predict(x_val) \n",
    "print(f\"Linear Regression R2 Score: {model_1.score(x_val, y_val)}\")\n",
    "print(f\"Linear Regression Mean Absolute Error: {mean_absolute_error(y_val, y_pred)}\")"
   ]
  },
  {
   "cell_type": "markdown",
   "metadata": {},
   "source": [
    "Based on the testing on the validation set for the optimal model, the R2 score and MAE is improved, but for the optimal model, with a right balance of the R2-score and MAE, I choose the Gradient Boosting Algorithm, as it has improved the scores a lot on the validation set."
   ]
  },
  {
   "cell_type": "code",
   "execution_count": 32,
   "metadata": {},
   "outputs": [
    {
     "data": {
      "text/plain": [
       "['GradBoost.joblib']"
      ]
     },
     "execution_count": 32,
     "metadata": {},
     "output_type": "execute_result"
    }
   ],
   "source": [
    "# Saving the model:\n",
    "\n",
    "import joblib\n",
    "\n",
    "joblib.dump(model_3, 'GradBoost.joblib')"
   ]
  },
  {
   "cell_type": "markdown",
   "metadata": {},
   "source": [
    "I have saved the Gradient Boosting Regressor model as the optimal model which is to be used on the live data."
   ]
  },
  {
   "cell_type": "code",
   "execution_count": 33,
   "metadata": {},
   "outputs": [
    {
     "name": "stdout",
     "output_type": "stream",
     "text": [
      "                           Feature  Importance\n",
      "10                price_per_review    0.542244\n",
      "7                reviews_per_night    0.149366\n",
      "3                number_of_reviews    0.145024\n",
      "9              host_listings_ratio    0.111248\n",
      "4                reviews_per_month    0.034613\n",
      "1                        room_type    0.010952\n",
      "8               availability_ratio    0.002070\n",
      "6                 availability_365    0.001383\n",
      "0                    neighbourhood    0.001349\n",
      "5   calculated_host_listings_count    0.001219\n",
      "2                   minimum_nights    0.000531\n"
     ]
    },
    {
     "data": {
      "image/png": "[encoded data removed]",
      "text/plain": [
       "<Figure size 1200x800 with 1 Axes>"
      ]
     },
     "metadata": {},
     "output_type": "display_data"
    }
   ],
   "source": [
    "# Feature Importance:\n",
    "\n",
    "features = main_data.drop(columns=['price'], axis=1).columns\n",
    "\n",
    "rf = RandomForestRegressor(n_estimators=100, random_state=42)\n",
    "rf.fit(x_train, y_train)\n",
    "importances = rf.feature_importances_\n",
    "feature_importance = pd.DataFrame({'Feature': features, 'Importance': importances})\n",
    "feature_importance = feature_importance.sort_values('Importance', ascending=False)\n",
    "print(feature_importance)\n",
    "\n",
    "\n",
    "# Plotting the Feature Importance:\n",
    "\n",
    "plt.figure(figsize=(12, 8))\n",
    "sns.barplot(x='Importance', y='Feature', data=feature_importance)\n",
    "plt.title('Feature Importance')\n",
    "plt.xlabel('Importance')\n",
    "plt.ylabel('Feature')\n",
    "plt.show()"
   ]
  },
  {
   "cell_type": "code",
   "execution_count": 34,
   "metadata": {},
   "outputs": [],
   "source": [
    "# Now making and storing the predictions for the main data:\n",
    "\n",
    "predictions = model_3.predict(x)\n",
    "main_data['price_pred'] = predictions\n",
    "main_data.to_csv('main_data_predictions.csv')"
   ]
  },
  {
   "cell_type": "code",
   "execution_count": 35,
   "metadata": {},
   "outputs": [
    {
     "data": {
      "application/vnd.microsoft.datawrangler.viewer.v0+json": {
       "columns": [
        {
         "name": "index",
         "rawType": "int64",
         "type": "integer"
        },
        {
         "name": "neighbourhood",
         "rawType": "int32",
         "type": "integer"
        },
        {
         "name": "room_type",
         "rawType": "int32",
         "type": "integer"
        },
        {
         "name": "price",
         "rawType": "int64",
         "type": "integer"
        },
        {
         "name": "minimum_nights",
         "rawType": "int64",
         "type": "integer"
        },
        {
         "name": "number_of_reviews",
         "rawType": "int64",
         "type": "integer"
        },
        {
         "name": "reviews_per_month",
         "rawType": "float64",
         "type": "float"
        },
        {
         "name": "calculated_host_listings_count",
         "rawType": "int64",
         "type": "integer"
        },
        {
         "name": "availability_365",
         "rawType": "int64",
         "type": "integer"
        },
        {
         "name": "reviews_per_night",
         "rawType": "float64",
         "type": "float"
        },
        {
         "name": "availability_ratio",
         "rawType": "float64",
         "type": "float"
        },
        {
         "name": "host_listings_ratio",
         "rawType": "float64",
         "type": "float"
        },
        {
         "name": "price_per_review",
         "rawType": "float64",
         "type": "float"
        },
        {
         "name": "price_pred",
         "rawType": "float64",
         "type": "float"
        }
       ],
       "conversionMethod": "pd.DataFrame",
       "ref": "a41f401e-02bd-4116-b611-e92ad5ec4a36",
       "rows": [
        [
         "0",
         "33",
         "2",
         "60",
         "2",
         "178",
         "2.56",
         "1",
         "353",
         "89.0",
         "0.9671232876712329",
         "0.0056179775280898875",
         "0.33707865168539325",
         "51.13485918885393"
        ],
        [
         "1",
         "64",
         "0",
         "105",
         "2",
         "395",
         "2.81",
         "1",
         "155",
         "197.5",
         "0.4246575342465753",
         "0.002531645569620253",
         "0.26582278481012656",
         "92.11312873605394"
        ],
        [
         "2",
         "75",
         "0",
         "60",
         "2",
         "384",
         "2.81",
         "1",
         "321",
         "192.0",
         "0.8794520547945206",
         "0.0026041666666666665",
         "0.15625",
         "90.59796240870338"
        ],
        [
         "3",
         "38",
         "0",
         "65",
         "4",
         "49",
         "0.63",
         "9",
         "300",
         "12.25",
         "0.821917808219178",
         "0.1836734693877551",
         "1.3265306122448979",
         "79.39645717890684"
        ],
        [
         "4",
         "33",
         "2",
         "21",
         "1",
         "44",
         "0.61",
         "5",
         "168",
         "44.0",
         "0.4602739726027397",
         "0.11363636363636363",
         "0.4772727272727273",
         "34.68506754359882"
        ],
        [
         "5",
         "38",
         "0",
         "115",
         "4",
         "19",
         "0.24",
         "9",
         "325",
         "4.75",
         "0.8904109589041096",
         "0.47368421052631576",
         "6.052631578947368",
         "111.69591956746416"
        ],
        [
         "6",
         "47",
         "0",
         "99",
         "5",
         "9",
         "0.13",
         "1",
         "316",
         "1.8",
         "0.8657534246575342",
         "0.1111111111111111",
         "11.0",
         "116.6799479808103"
        ],
        [
         "7",
         "38",
         "2",
         "289",
         "2",
         "4",
         "0.06",
         "1",
         "179",
         "2.0",
         "0.4904109589041096",
         "0.25",
         "72.25",
         "271.49354083399476"
        ],
        [
         "8",
         "75",
         "0",
         "99",
         "91",
         "9",
         "0.11",
         "2",
         "365",
         "0.0989010989010989",
         "1.0",
         "0.2222222222222222",
         "11.0",
         "115.42343908757665"
        ],
        [
         "9",
         "38",
         "0",
         "112",
         "32",
         "37",
         "0.29",
         "4",
         "180",
         "1.15625",
         "0.4931506849315068",
         "0.10810810810810811",
         "3.027027027027027",
         "108.62089814272203"
        ]
       ],
       "shape": {
        "columns": 13,
        "rows": 10
       }
      },
      "text/html": [
       "<div>\n",
       "<style scoped>\n",
       "    .dataframe tbody tr th:only-of-type {\n",
       "        vertical-align: middle;\n",
       "    }\n",
       "\n",
       "    .dataframe tbody tr th {\n",
       "        vertical-align: top;\n",
       "    }\n",
       "\n",
       "    .dataframe thead th {\n",
       "        text-align: right;\n",
       "    }\n",
       "</style>\n",
       "<table border=\"1\" class=\"dataframe\">\n",
       "  <thead>\n",
       "    <tr style=\"text-align: right;\">\n",
       "      <th></th>\n",
       "      <th>neighbourhood</th>\n",
       "      <th>room_type</th>\n",
       "      <th>price</th>\n",
       "      <th>minimum_nights</th>\n",
       "      <th>number_of_reviews</th>\n",
       "      <th>reviews_per_month</th>\n",
       "      <th>calculated_host_listings_count</th>\n",
       "      <th>availability_365</th>\n",
       "      <th>reviews_per_night</th>\n",
       "      <th>availability_ratio</th>\n",
       "      <th>host_listings_ratio</th>\n",
       "      <th>price_per_review</th>\n",
       "      <th>price_pred</th>\n",
       "    </tr>\n",
       "  </thead>\n",
       "  <tbody>\n",
       "    <tr>\n",
       "      <th>0</th>\n",
       "      <td>33</td>\n",
       "      <td>2</td>\n",
       "      <td>60</td>\n",
       "      <td>2</td>\n",
       "      <td>178</td>\n",
       "      <td>2.56</td>\n",
       "      <td>1</td>\n",
       "      <td>353</td>\n",
       "      <td>89.000000</td>\n",
       "      <td>0.967123</td>\n",
       "      <td>0.005618</td>\n",
       "      <td>0.337079</td>\n",
       "      <td>51.134859</td>\n",
       "    </tr>\n",
       "    <tr>\n",
       "      <th>1</th>\n",
       "      <td>64</td>\n",
       "      <td>0</td>\n",
       "      <td>105</td>\n",
       "      <td>2</td>\n",
       "      <td>395</td>\n",
       "      <td>2.81</td>\n",
       "      <td>1</td>\n",
       "      <td>155</td>\n",
       "      <td>197.500000</td>\n",
       "      <td>0.424658</td>\n",
       "      <td>0.002532</td>\n",
       "      <td>0.265823</td>\n",
       "      <td>92.113129</td>\n",
       "    </tr>\n",
       "    <tr>\n",
       "      <th>2</th>\n",
       "      <td>75</td>\n",
       "      <td>0</td>\n",
       "      <td>60</td>\n",
       "      <td>2</td>\n",
       "      <td>384</td>\n",
       "      <td>2.81</td>\n",
       "      <td>1</td>\n",
       "      <td>321</td>\n",
       "      <td>192.000000</td>\n",
       "      <td>0.879452</td>\n",
       "      <td>0.002604</td>\n",
       "      <td>0.156250</td>\n",
       "      <td>90.597962</td>\n",
       "    </tr>\n",
       "    <tr>\n",
       "      <th>3</th>\n",
       "      <td>38</td>\n",
       "      <td>0</td>\n",
       "      <td>65</td>\n",
       "      <td>4</td>\n",
       "      <td>49</td>\n",
       "      <td>0.63</td>\n",
       "      <td>9</td>\n",
       "      <td>300</td>\n",
       "      <td>12.250000</td>\n",
       "      <td>0.821918</td>\n",
       "      <td>0.183673</td>\n",
       "      <td>1.326531</td>\n",
       "      <td>79.396457</td>\n",
       "    </tr>\n",
       "    <tr>\n",
       "      <th>4</th>\n",
       "      <td>33</td>\n",
       "      <td>2</td>\n",
       "      <td>21</td>\n",
       "      <td>1</td>\n",
       "      <td>44</td>\n",
       "      <td>0.61</td>\n",
       "      <td>5</td>\n",
       "      <td>168</td>\n",
       "      <td>44.000000</td>\n",
       "      <td>0.460274</td>\n",
       "      <td>0.113636</td>\n",
       "      <td>0.477273</td>\n",
       "      <td>34.685068</td>\n",
       "    </tr>\n",
       "    <tr>\n",
       "      <th>5</th>\n",
       "      <td>38</td>\n",
       "      <td>0</td>\n",
       "      <td>115</td>\n",
       "      <td>4</td>\n",
       "      <td>19</td>\n",
       "      <td>0.24</td>\n",
       "      <td>9</td>\n",
       "      <td>325</td>\n",
       "      <td>4.750000</td>\n",
       "      <td>0.890411</td>\n",
       "      <td>0.473684</td>\n",
       "      <td>6.052632</td>\n",
       "      <td>111.695920</td>\n",
       "    </tr>\n",
       "    <tr>\n",
       "      <th>6</th>\n",
       "      <td>47</td>\n",
       "      <td>0</td>\n",
       "      <td>99</td>\n",
       "      <td>5</td>\n",
       "      <td>9</td>\n",
       "      <td>0.13</td>\n",
       "      <td>1</td>\n",
       "      <td>316</td>\n",
       "      <td>1.800000</td>\n",
       "      <td>0.865753</td>\n",
       "      <td>0.111111</td>\n",
       "      <td>11.000000</td>\n",
       "      <td>116.679948</td>\n",
       "    </tr>\n",
       "    <tr>\n",
       "      <th>7</th>\n",
       "      <td>38</td>\n",
       "      <td>2</td>\n",
       "      <td>289</td>\n",
       "      <td>2</td>\n",
       "      <td>4</td>\n",
       "      <td>0.06</td>\n",
       "      <td>1</td>\n",
       "      <td>179</td>\n",
       "      <td>2.000000</td>\n",
       "      <td>0.490411</td>\n",
       "      <td>0.250000</td>\n",
       "      <td>72.250000</td>\n",
       "      <td>271.493541</td>\n",
       "    </tr>\n",
       "    <tr>\n",
       "      <th>8</th>\n",
       "      <td>75</td>\n",
       "      <td>0</td>\n",
       "      <td>99</td>\n",
       "      <td>91</td>\n",
       "      <td>9</td>\n",
       "      <td>0.11</td>\n",
       "      <td>2</td>\n",
       "      <td>365</td>\n",
       "      <td>0.098901</td>\n",
       "      <td>1.000000</td>\n",
       "      <td>0.222222</td>\n",
       "      <td>11.000000</td>\n",
       "      <td>115.423439</td>\n",
       "    </tr>\n",
       "    <tr>\n",
       "      <th>9</th>\n",
       "      <td>38</td>\n",
       "      <td>0</td>\n",
       "      <td>112</td>\n",
       "      <td>32</td>\n",
       "      <td>37</td>\n",
       "      <td>0.29</td>\n",
       "      <td>4</td>\n",
       "      <td>180</td>\n",
       "      <td>1.156250</td>\n",
       "      <td>0.493151</td>\n",
       "      <td>0.108108</td>\n",
       "      <td>3.027027</td>\n",
       "      <td>108.620898</td>\n",
       "    </tr>\n",
       "  </tbody>\n",
       "</table>\n",
       "</div>"
      ],
      "text/plain": [
       "   neighbourhood  room_type  price  minimum_nights  number_of_reviews  \\\n",
       "0             33          2     60               2                178   \n",
       "1             64          0    105               2                395   \n",
       "2             75          0     60               2                384   \n",
       "3             38          0     65               4                 49   \n",
       "4             33          2     21               1                 44   \n",
       "5             38          0    115               4                 19   \n",
       "6             47          0     99               5                  9   \n",
       "7             38          2    289               2                  4   \n",
       "8             75          0     99              91                  9   \n",
       "9             38          0    112              32                 37   \n",
       "\n",
       "   reviews_per_month  calculated_host_listings_count  availability_365  \\\n",
       "0               2.56                               1               353   \n",
       "1               2.81                               1               155   \n",
       "2               2.81                               1               321   \n",
       "3               0.63                               9               300   \n",
       "4               0.61                               5               168   \n",
       "5               0.24                               9               325   \n",
       "6               0.13                               1               316   \n",
       "7               0.06                               1               179   \n",
       "8               0.11                               2               365   \n",
       "9               0.29                               4               180   \n",
       "\n",
       "   reviews_per_night  availability_ratio  host_listings_ratio  \\\n",
       "0          89.000000            0.967123             0.005618   \n",
       "1         197.500000            0.424658             0.002532   \n",
       "2         192.000000            0.879452             0.002604   \n",
       "3          12.250000            0.821918             0.183673   \n",
       "4          44.000000            0.460274             0.113636   \n",
       "5           4.750000            0.890411             0.473684   \n",
       "6           1.800000            0.865753             0.111111   \n",
       "7           2.000000            0.490411             0.250000   \n",
       "8           0.098901            1.000000             0.222222   \n",
       "9           1.156250            0.493151             0.108108   \n",
       "\n",
       "   price_per_review  price_pred  \n",
       "0          0.337079   51.134859  \n",
       "1          0.265823   92.113129  \n",
       "2          0.156250   90.597962  \n",
       "3          1.326531   79.396457  \n",
       "4          0.477273   34.685068  \n",
       "5          6.052632  111.695920  \n",
       "6         11.000000  116.679948  \n",
       "7         72.250000  271.493541  \n",
       "8         11.000000  115.423439  \n",
       "9          3.027027  108.620898  "
      ]
     },
     "execution_count": 35,
     "metadata": {},
     "output_type": "execute_result"
    }
   ],
   "source": [
    "main_data.head(10)"
   ]
  },
  {
   "cell_type": "code",
   "execution_count": 36,
   "metadata": {},
   "outputs": [
    {
     "data": {
      "text/plain": [
       "297"
      ]
     },
     "execution_count": 36,
     "metadata": {},
     "output_type": "execute_result"
    }
   ],
   "source": [
    "# Storing the Predictions in the Database:\n",
    "\n",
    "\n",
    "\n",
    "main_data.to_sql('main_data_predictions', con=engine, schema='cleaned', if_exists='replace', index=False)"
   ]
  },
  {
   "cell_type": "code",
   "execution_count": 37,
   "metadata": {},
   "outputs": [
    {
     "data": {
      "text/plain": [
       "297"
      ]
     },
     "execution_count": 37,
     "metadata": {},
     "output_type": "execute_result"
    }
   ],
   "source": [
    "# Storing the Predictions from the main data as a seperate table:\n",
    "\n",
    "main_pred = pd.DataFrame(main_data['price_pred'])\n",
    "main_pred.to_sql('main_pred', con=engine, schema='predictions', if_exists='replace', index=False)"
   ]
  },
  {
   "cell_type": "markdown",
   "metadata": {},
   "source": [
    "I have stored the predictions as a seperate dataframe in the predictions schema, as shown in the picture 1, and also added the predictions in the main data and added the data into the database in the cleaned schema as shown in the picture 2\n",
    "\n",
    "<img align=\"left\" style=\"padding-left:50px;\" src=\"figures/main_data_pred.png\" width=350><br>\n",
    "\n",
    "<img align=\"center\" style=\"padding-left:50px;\" src=\"figures/main_data_cleaned_cleaned_schema.png\" width=350><br>\n"
   ]
  },
  {
   "cell_type": "code",
   "execution_count": 38,
   "metadata": {},
   "outputs": [],
   "source": [
    "# Creating the Data Frame for all the transformation methods used on the main_data columns:\n",
    "\n",
    "transformation_methods = pd.DataFrame({'Field': ['id', 'name', 'host_id', 'host_name', 'neighbourhood_group', \n",
    "                                                 'neighbourhood', 'latitude', 'longitude', 'room_type', \n",
    "                                                 'price', 'minimum_nights', 'number_of_reviews', 'last_review',\n",
    "                                                 'reviews_per_month', 'calculated_host_listings_count', 'availability_365', \n",
    "                                                 'reviews_per_night', 'availability_ratio', 'host_listings_ratio', \n",
    "                                                 'price_per_review'],\n",
    "                                        'Action': ['Drop', 'Drop', 'Drop', 'Drop', 'Drop', 'Label Encoding', 'Drop', 'Drop',\n",
    "                                                    'Label Encoding', ' ', 'Standard Scaling', 'Standard Scaling', 'Drop',\n",
    "                                                    'Standard Scaling and Median Replace', 'Standard Scaling', 'Standard Scaling', \n",
    "                                                    'Feature Engineering', 'Feature Engineering', 'Feature Engineering', \n",
    "                                                    'Feature Engineering']})"
   ]
  },
  {
   "cell_type": "code",
   "execution_count": 39,
   "metadata": {},
   "outputs": [
    {
     "data": {
      "application/vnd.microsoft.datawrangler.viewer.v0+json": {
       "columns": [
        {
         "name": "index",
         "rawType": "int64",
         "type": "integer"
        },
        {
         "name": "Field",
         "rawType": "object",
         "type": "string"
        },
        {
         "name": "Action",
         "rawType": "object",
         "type": "string"
        }
       ],
       "conversionMethod": "pd.DataFrame",
       "ref": "3f9ddc5c-dcc7-4768-b3b2-7f58fb952ee2",
       "rows": [
        [
         "0",
         "id",
         "Drop"
        ],
        [
         "1",
         "name",
         "Drop"
        ],
        [
         "2",
         "host_id",
         "Drop"
        ],
        [
         "3",
         "host_name",
         "Drop"
        ],
        [
         "4",
         "neighbourhood_group",
         "Drop"
        ],
        [
         "5",
         "neighbourhood",
         "Label Encoding"
        ],
        [
         "6",
         "latitude",
         "Drop"
        ],
        [
         "7",
         "longitude",
         "Drop"
        ],
        [
         "8",
         "room_type",
         "Label Encoding"
        ],
        [
         "9",
         "price",
         " "
        ],
        [
         "10",
         "minimum_nights",
         "Standard Scaling"
        ],
        [
         "11",
         "number_of_reviews",
         "Standard Scaling"
        ],
        [
         "12",
         "last_review",
         "Drop"
        ],
        [
         "13",
         "reviews_per_month",
         "Standard Scaling and Median Replace"
        ],
        [
         "14",
         "calculated_host_listings_count",
         "Standard Scaling"
        ],
        [
         "15",
         "availability_365",
         "Standard Scaling"
        ],
        [
         "16",
         "reviews_per_night",
         "Feature Engineering"
        ],
        [
         "17",
         "availability_ratio",
         "Feature Engineering"
        ],
        [
         "18",
         "host_listings_ratio",
         "Feature Engineering"
        ],
        [
         "19",
         "price_per_review",
         "Feature Engineering"
        ]
       ],
       "shape": {
        "columns": 2,
        "rows": 20
       }
      },
      "text/html": [
       "<div>\n",
       "<style scoped>\n",
       "    .dataframe tbody tr th:only-of-type {\n",
       "        vertical-align: middle;\n",
       "    }\n",
       "\n",
       "    .dataframe tbody tr th {\n",
       "        vertical-align: top;\n",
       "    }\n",
       "\n",
       "    .dataframe thead th {\n",
       "        text-align: right;\n",
       "    }\n",
       "</style>\n",
       "<table border=\"1\" class=\"dataframe\">\n",
       "  <thead>\n",
       "    <tr style=\"text-align: right;\">\n",
       "      <th></th>\n",
       "      <th>Field</th>\n",
       "      <th>Action</th>\n",
       "    </tr>\n",
       "  </thead>\n",
       "  <tbody>\n",
       "    <tr>\n",
       "      <th>0</th>\n",
       "      <td>id</td>\n",
       "      <td>Drop</td>\n",
       "    </tr>\n",
       "    <tr>\n",
       "      <th>1</th>\n",
       "      <td>name</td>\n",
       "      <td>Drop</td>\n",
       "    </tr>\n",
       "    <tr>\n",
       "      <th>2</th>\n",
       "      <td>host_id</td>\n",
       "      <td>Drop</td>\n",
       "    </tr>\n",
       "    <tr>\n",
       "      <th>3</th>\n",
       "      <td>host_name</td>\n",
       "      <td>Drop</td>\n",
       "    </tr>\n",
       "    <tr>\n",
       "      <th>4</th>\n",
       "      <td>neighbourhood_group</td>\n",
       "      <td>Drop</td>\n",
       "    </tr>\n",
       "    <tr>\n",
       "      <th>5</th>\n",
       "      <td>neighbourhood</td>\n",
       "      <td>Label Encoding</td>\n",
       "    </tr>\n",
       "    <tr>\n",
       "      <th>6</th>\n",
       "      <td>latitude</td>\n",
       "      <td>Drop</td>\n",
       "    </tr>\n",
       "    <tr>\n",
       "      <th>7</th>\n",
       "      <td>longitude</td>\n",
       "      <td>Drop</td>\n",
       "    </tr>\n",
       "    <tr>\n",
       "      <th>8</th>\n",
       "      <td>room_type</td>\n",
       "      <td>Label Encoding</td>\n",
       "    </tr>\n",
       "    <tr>\n",
       "      <th>9</th>\n",
       "      <td>price</td>\n",
       "      <td></td>\n",
       "    </tr>\n",
       "    <tr>\n",
       "      <th>10</th>\n",
       "      <td>minimum_nights</td>\n",
       "      <td>Standard Scaling</td>\n",
       "    </tr>\n",
       "    <tr>\n",
       "      <th>11</th>\n",
       "      <td>number_of_reviews</td>\n",
       "      <td>Standard Scaling</td>\n",
       "    </tr>\n",
       "    <tr>\n",
       "      <th>12</th>\n",
       "      <td>last_review</td>\n",
       "      <td>Drop</td>\n",
       "    </tr>\n",
       "    <tr>\n",
       "      <th>13</th>\n",
       "      <td>reviews_per_month</td>\n",
       "      <td>Standard Scaling and Median Replace</td>\n",
       "    </tr>\n",
       "    <tr>\n",
       "      <th>14</th>\n",
       "      <td>calculated_host_listings_count</td>\n",
       "      <td>Standard Scaling</td>\n",
       "    </tr>\n",
       "    <tr>\n",
       "      <th>15</th>\n",
       "      <td>availability_365</td>\n",
       "      <td>Standard Scaling</td>\n",
       "    </tr>\n",
       "    <tr>\n",
       "      <th>16</th>\n",
       "      <td>reviews_per_night</td>\n",
       "      <td>Feature Engineering</td>\n",
       "    </tr>\n",
       "    <tr>\n",
       "      <th>17</th>\n",
       "      <td>availability_ratio</td>\n",
       "      <td>Feature Engineering</td>\n",
       "    </tr>\n",
       "    <tr>\n",
       "      <th>18</th>\n",
       "      <td>host_listings_ratio</td>\n",
       "      <td>Feature Engineering</td>\n",
       "    </tr>\n",
       "    <tr>\n",
       "      <th>19</th>\n",
       "      <td>price_per_review</td>\n",
       "      <td>Feature Engineering</td>\n",
       "    </tr>\n",
       "  </tbody>\n",
       "</table>\n",
       "</div>"
      ],
      "text/plain": [
       "                             Field                               Action\n",
       "0                               id                                 Drop\n",
       "1                             name                                 Drop\n",
       "2                          host_id                                 Drop\n",
       "3                        host_name                                 Drop\n",
       "4              neighbourhood_group                                 Drop\n",
       "5                    neighbourhood                       Label Encoding\n",
       "6                         latitude                                 Drop\n",
       "7                        longitude                                 Drop\n",
       "8                        room_type                       Label Encoding\n",
       "9                            price                                     \n",
       "10                  minimum_nights                     Standard Scaling\n",
       "11               number_of_reviews                     Standard Scaling\n",
       "12                     last_review                                 Drop\n",
       "13               reviews_per_month  Standard Scaling and Median Replace\n",
       "14  calculated_host_listings_count                     Standard Scaling\n",
       "15                availability_365                     Standard Scaling\n",
       "16               reviews_per_night                  Feature Engineering\n",
       "17              availability_ratio                  Feature Engineering\n",
       "18             host_listings_ratio                  Feature Engineering\n",
       "19                price_per_review                  Feature Engineering"
      ]
     },
     "execution_count": 39,
     "metadata": {},
     "output_type": "execute_result"
    }
   ],
   "source": [
    "transformation_methods"
   ]
  },
  {
   "cell_type": "code",
   "execution_count": 40,
   "metadata": {},
   "outputs": [
    {
     "data": {
      "text/plain": [
       "20"
      ]
     },
     "execution_count": 40,
     "metadata": {},
     "output_type": "execute_result"
    }
   ],
   "source": [
    "# Storing the transformation methods into the database:\n",
    "\n",
    "transformation_methods.to_sql('transformation_methods', con=engine, schema='Transform', if_exists='replace', index=False)"
   ]
  },
  {
   "cell_type": "markdown",
   "metadata": {},
   "source": [
    "I have stored the Transformation methods as a dataframe into the PostgreSQL in the Transformations schema, as shown in the picture:\n",
    "\n",
    "<img align=\"center\" style=\"padding-left:50px;\" src=\"figures/transform_methods.png\" width=350><br>\n"
   ]
  }
 ],
 "metadata": {
  "kernelspec": {
   "display_name": "base",
   "language": "python",
   "name": "python3"
  },
  "language_info": {
   "codemirror_mode": {
    "name": "ipython",
    "version": 3
   },
   "file_extension": ".py",
   "mimetype": "text/x-python",
   "name": "python",
   "nbconvert_exporter": "python",
   "pygments_lexer": "ipython3",
   "version": "3.12.7"
  }
 },
 "nbformat": 4,
 "nbformat_minor": 2
}
