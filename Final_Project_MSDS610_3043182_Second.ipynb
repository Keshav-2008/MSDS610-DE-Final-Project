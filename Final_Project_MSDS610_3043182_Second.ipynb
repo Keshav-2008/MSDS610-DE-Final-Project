{
 "cells": [
  {
   "cell_type": "markdown",
   "metadata": {},
   "source": [
    "# ***MSDS610 Data Engineering Final Project* - Second Notebook**"
   ]
  },
  {
   "cell_type": "markdown",
   "metadata": {},
   "source": [
    "In this notebook, I will be focusing on using the trained model on the `live_data`, which was saved in the first notebook. This notebook contains the code for loading and extracting the live_data and also the `Transformation_Methods` dataframe which was saved in the database in the first notebook, so that I can create `User-Defined Functions(UDF)` for applying the transformations on the live data without using all that code from the first notebook, on the live data.\n",
    "\n",
    "After those steps, I will be using the saved model to get the predictions on the live_data."
   ]
  },
  {
   "cell_type": "code",
   "execution_count": 1,
   "metadata": {},
   "outputs": [],
   "source": [
    "# Importing the basic important libraries:\n",
    "\n",
    "import numpy as np\n",
    "import pandas as pd\n",
    "import matplotlib.pyplot as plt\n",
    "%matplotlib inline\n",
    "import seaborn as sns\n",
    "\n",
    "\n",
    "# Importing the library for the database connection:\n",
    "\n",
    "import psycopg2\n",
    "from sqlalchemy import create_engine"
   ]
  },
  {
   "cell_type": "code",
   "execution_count": 2,
   "metadata": {},
   "outputs": [
    {
     "name": "stdout",
     "output_type": "stream",
     "text": [
      "Connection successful!\n"
     ]
    }
   ],
   "source": [
    "# Establishing the connection to the database:\n",
    "\n",
    "host = '127.0.0.1'\n",
    "db = 'MSDS610 DE'\n",
    "user = 'postgres'\n",
    "password = 'keshava' \n",
    "port = '5432'\n",
    "\n",
    "conn_str = f'postgresql+psycopg2://{user}:{password}@{host}:{port}/{db}'\n",
    "\n",
    "try:\n",
    "    engine = create_engine(conn_str)\n",
    "    conn = engine.connect()\n",
    "    print(\"Connection successful!\")\n",
    "    conn.close()\n",
    "except Exception as e:\n",
    "    print(f\"Connection failed: {e}\")"
   ]
  },
  {
   "cell_type": "code",
   "execution_count": 3,
   "metadata": {},
   "outputs": [
    {
     "data": {
      "application/vnd.microsoft.datawrangler.viewer.v0+json": {
       "columns": [
        {
         "name": "index",
         "rawType": "int64",
         "type": "integer"
        },
        {
         "name": "Unnamed: 0",
         "rawType": "int64",
         "type": "integer"
        },
        {
         "name": "id",
         "rawType": "int64",
         "type": "integer"
        },
        {
         "name": "name",
         "rawType": "object",
         "type": "string"
        },
        {
         "name": "host_id",
         "rawType": "int64",
         "type": "integer"
        },
        {
         "name": "host_name",
         "rawType": "object",
         "type": "string"
        },
        {
         "name": "neighbourhood_group",
         "rawType": "float64",
         "type": "float"
        },
        {
         "name": "neighbourhood",
         "rawType": "object",
         "type": "string"
        },
        {
         "name": "latitude",
         "rawType": "float64",
         "type": "float"
        },
        {
         "name": "longitude",
         "rawType": "float64",
         "type": "float"
        },
        {
         "name": "room_type",
         "rawType": "object",
         "type": "string"
        },
        {
         "name": "price",
         "rawType": "int64",
         "type": "integer"
        },
        {
         "name": "minimum_nights",
         "rawType": "int64",
         "type": "integer"
        },
        {
         "name": "number_of_reviews",
         "rawType": "int64",
         "type": "integer"
        },
        {
         "name": "last_review",
         "rawType": "object",
         "type": "unknown"
        },
        {
         "name": "reviews_per_month",
         "rawType": "float64",
         "type": "float"
        },
        {
         "name": "calculated_host_listings_count",
         "rawType": "int64",
         "type": "integer"
        },
        {
         "name": "availability_365",
         "rawType": "int64",
         "type": "integer"
        }
       ],
       "conversionMethod": "pd.DataFrame",
       "ref": "ba4bdf85-b867-49fb-9ce5-044d72333c16",
       "rows": [
        [
         "0",
         "4963",
         "40182247",
         "3 bdrm; free internet in pilsen/southloop",
         "306943744",
         "Joe",
         null,
         "Lower West Side",
         "41.85974",
         "-87.65797",
         "Entire home/apt",
         "200",
         "1",
         "1",
         "17-02-2020",
         "0.14",
         "8",
         "365"
        ],
        [
         "1",
         "6356",
         "45438479",
         "English Lavender Room",
         "258297883",
         "Darkhan",
         null,
         "Humboldt Park",
         "41.88866",
         "-87.71965",
         "Private room",
         "44",
         "1",
         "0",
         null,
         null,
         "3",
         "1"
        ],
        [
         "2",
         "4866",
         "39793384",
         "ROWULA HOUSE - WARM AFRICAN HOSPITALITY IN CHICAGO",
         "13784535",
         "Omar",
         null,
         "South Chicago",
         "41.73711",
         "-87.54816",
         "Private room",
         "45",
         "1",
         "1",
         "31-08-2020",
         "1.0",
         "1",
         "357"
        ],
        [
         "3",
         "4022",
         "35942729",
         "Spacious Sedgwick Condo - Steps to Old Town",
         "200416010",
         "Saul",
         null,
         "Near North Side",
         "41.91054",
         "-87.63743",
         "Entire home/apt",
         "255",
         "3",
         "11",
         "07-09-2020",
         "1.09",
         "6",
         "342"
        ],
        [
         "4",
         "132",
         "1468342",
         "Quaint Serenity in Bronzeville",
         "4081052",
         "Suzetta",
         null,
         "Grand Boulevard",
         "41.81266",
         "-87.61586",
         "Private room",
         "55",
         "2",
         "123",
         "16-02-2020",
         "1.42",
         "1",
         "364"
        ],
        [
         "5",
         "4591",
         "38870766",
         "Free parking, 2 blocks from train, 2 bedroom aprtm",
         "59484991",
         "Jady And",
         null,
         "South Lawndale",
         "41.85177",
         "-87.70175",
         "Entire home/apt",
         "67",
         "1",
         "43",
         "12-09-2020",
         "3.66",
         "1",
         "177"
        ],
        [
         "6",
         "1242",
         "15257492",
         "让你有如同回家的感觉",
         "96810944",
         "Lin & Peter",
         null,
         "Avondale",
         "41.93574",
         "-87.73037",
         "Private room",
         "30",
         "1",
         "26",
         "04-07-2020",
         "0.54",
         "3",
         "266"
        ],
        [
         "7",
         "263",
         "3308694",
         "\"The Annex II\" Huge 1,600 Sq foot Apartment",
         "16707041",
         "Matthew",
         null,
         "Near West Side",
         "41.8867",
         "-87.64338",
         "Entire home/apt",
         "299",
         "2",
         "38",
         "16-02-2020",
         "0.78",
         "2",
         "361"
        ],
        [
         "8",
         "5372",
         "41901706",
         "Loft apt, easy access to many Chicago hot spots!",
         "94999642",
         "Sarah",
         null,
         "Humboldt Park",
         "41.89845",
         "-87.70402",
         "Entire home/apt",
         "99",
         "1",
         "6",
         "05-09-2020",
         "0.83",
         "1",
         "1"
        ],
        [
         "9",
         "351",
         "4503332",
         "Near The Loop and McCormick Place",
         "20059524",
         "(Email hidden by Airbnb)",
         null,
         "Armour Square",
         "41.85586",
         "-87.63569",
         "Entire home/apt",
         "100",
         "1",
         "86",
         "15-03-2020",
         "1.33",
         "3",
         "0"
        ]
       ],
       "shape": {
        "columns": 17,
        "rows": 10
       }
      },
      "text/html": [
       "<div>\n",
       "<style scoped>\n",
       "    .dataframe tbody tr th:only-of-type {\n",
       "        vertical-align: middle;\n",
       "    }\n",
       "\n",
       "    .dataframe tbody tr th {\n",
       "        vertical-align: top;\n",
       "    }\n",
       "\n",
       "    .dataframe thead th {\n",
       "        text-align: right;\n",
       "    }\n",
       "</style>\n",
       "<table border=\"1\" class=\"dataframe\">\n",
       "  <thead>\n",
       "    <tr style=\"text-align: right;\">\n",
       "      <th></th>\n",
       "      <th>Unnamed: 0</th>\n",
       "      <th>id</th>\n",
       "      <th>name</th>\n",
       "      <th>host_id</th>\n",
       "      <th>host_name</th>\n",
       "      <th>neighbourhood_group</th>\n",
       "      <th>neighbourhood</th>\n",
       "      <th>latitude</th>\n",
       "      <th>longitude</th>\n",
       "      <th>room_type</th>\n",
       "      <th>price</th>\n",
       "      <th>minimum_nights</th>\n",
       "      <th>number_of_reviews</th>\n",
       "      <th>last_review</th>\n",
       "      <th>reviews_per_month</th>\n",
       "      <th>calculated_host_listings_count</th>\n",
       "      <th>availability_365</th>\n",
       "    </tr>\n",
       "  </thead>\n",
       "  <tbody>\n",
       "    <tr>\n",
       "      <th>0</th>\n",
       "      <td>4963</td>\n",
       "      <td>40182247</td>\n",
       "      <td>3 bdrm; free internet in pilsen/southloop</td>\n",
       "      <td>306943744</td>\n",
       "      <td>Joe</td>\n",
       "      <td>NaN</td>\n",
       "      <td>Lower West Side</td>\n",
       "      <td>41.85974</td>\n",
       "      <td>-87.65797</td>\n",
       "      <td>Entire home/apt</td>\n",
       "      <td>200</td>\n",
       "      <td>1</td>\n",
       "      <td>1</td>\n",
       "      <td>17-02-2020</td>\n",
       "      <td>0.14</td>\n",
       "      <td>8</td>\n",
       "      <td>365</td>\n",
       "    </tr>\n",
       "    <tr>\n",
       "      <th>1</th>\n",
       "      <td>6356</td>\n",
       "      <td>45438479</td>\n",
       "      <td>English Lavender Room</td>\n",
       "      <td>258297883</td>\n",
       "      <td>Darkhan</td>\n",
       "      <td>NaN</td>\n",
       "      <td>Humboldt Park</td>\n",
       "      <td>41.88866</td>\n",
       "      <td>-87.71965</td>\n",
       "      <td>Private room</td>\n",
       "      <td>44</td>\n",
       "      <td>1</td>\n",
       "      <td>0</td>\n",
       "      <td>NaN</td>\n",
       "      <td>NaN</td>\n",
       "      <td>3</td>\n",
       "      <td>1</td>\n",
       "    </tr>\n",
       "    <tr>\n",
       "      <th>2</th>\n",
       "      <td>4866</td>\n",
       "      <td>39793384</td>\n",
       "      <td>ROWULA HOUSE - WARM AFRICAN HOSPITALITY IN CHI...</td>\n",
       "      <td>13784535</td>\n",
       "      <td>Omar</td>\n",
       "      <td>NaN</td>\n",
       "      <td>South Chicago</td>\n",
       "      <td>41.73711</td>\n",
       "      <td>-87.54816</td>\n",
       "      <td>Private room</td>\n",
       "      <td>45</td>\n",
       "      <td>1</td>\n",
       "      <td>1</td>\n",
       "      <td>31-08-2020</td>\n",
       "      <td>1.00</td>\n",
       "      <td>1</td>\n",
       "      <td>357</td>\n",
       "    </tr>\n",
       "    <tr>\n",
       "      <th>3</th>\n",
       "      <td>4022</td>\n",
       "      <td>35942729</td>\n",
       "      <td>Spacious Sedgwick Condo - Steps to Old Town</td>\n",
       "      <td>200416010</td>\n",
       "      <td>Saul</td>\n",
       "      <td>NaN</td>\n",
       "      <td>Near North Side</td>\n",
       "      <td>41.91054</td>\n",
       "      <td>-87.63743</td>\n",
       "      <td>Entire home/apt</td>\n",
       "      <td>255</td>\n",
       "      <td>3</td>\n",
       "      <td>11</td>\n",
       "      <td>07-09-2020</td>\n",
       "      <td>1.09</td>\n",
       "      <td>6</td>\n",
       "      <td>342</td>\n",
       "    </tr>\n",
       "    <tr>\n",
       "      <th>4</th>\n",
       "      <td>132</td>\n",
       "      <td>1468342</td>\n",
       "      <td>Quaint Serenity in Bronzeville</td>\n",
       "      <td>4081052</td>\n",
       "      <td>Suzetta</td>\n",
       "      <td>NaN</td>\n",
       "      <td>Grand Boulevard</td>\n",
       "      <td>41.81266</td>\n",
       "      <td>-87.61586</td>\n",
       "      <td>Private room</td>\n",
       "      <td>55</td>\n",
       "      <td>2</td>\n",
       "      <td>123</td>\n",
       "      <td>16-02-2020</td>\n",
       "      <td>1.42</td>\n",
       "      <td>1</td>\n",
       "      <td>364</td>\n",
       "    </tr>\n",
       "    <tr>\n",
       "      <th>5</th>\n",
       "      <td>4591</td>\n",
       "      <td>38870766</td>\n",
       "      <td>Free parking, 2 blocks from train, 2 bedroom a...</td>\n",
       "      <td>59484991</td>\n",
       "      <td>Jady And</td>\n",
       "      <td>NaN</td>\n",
       "      <td>South Lawndale</td>\n",
       "      <td>41.85177</td>\n",
       "      <td>-87.70175</td>\n",
       "      <td>Entire home/apt</td>\n",
       "      <td>67</td>\n",
       "      <td>1</td>\n",
       "      <td>43</td>\n",
       "      <td>12-09-2020</td>\n",
       "      <td>3.66</td>\n",
       "      <td>1</td>\n",
       "      <td>177</td>\n",
       "    </tr>\n",
       "    <tr>\n",
       "      <th>6</th>\n",
       "      <td>1242</td>\n",
       "      <td>15257492</td>\n",
       "      <td>让你有如同回家的感觉</td>\n",
       "      <td>96810944</td>\n",
       "      <td>Lin &amp; Peter</td>\n",
       "      <td>NaN</td>\n",
       "      <td>Avondale</td>\n",
       "      <td>41.93574</td>\n",
       "      <td>-87.73037</td>\n",
       "      <td>Private room</td>\n",
       "      <td>30</td>\n",
       "      <td>1</td>\n",
       "      <td>26</td>\n",
       "      <td>04-07-2020</td>\n",
       "      <td>0.54</td>\n",
       "      <td>3</td>\n",
       "      <td>266</td>\n",
       "    </tr>\n",
       "    <tr>\n",
       "      <th>7</th>\n",
       "      <td>263</td>\n",
       "      <td>3308694</td>\n",
       "      <td>\"The Annex II\" Huge 1,600 Sq foot Apartment</td>\n",
       "      <td>16707041</td>\n",
       "      <td>Matthew</td>\n",
       "      <td>NaN</td>\n",
       "      <td>Near West Side</td>\n",
       "      <td>41.88670</td>\n",
       "      <td>-87.64338</td>\n",
       "      <td>Entire home/apt</td>\n",
       "      <td>299</td>\n",
       "      <td>2</td>\n",
       "      <td>38</td>\n",
       "      <td>16-02-2020</td>\n",
       "      <td>0.78</td>\n",
       "      <td>2</td>\n",
       "      <td>361</td>\n",
       "    </tr>\n",
       "    <tr>\n",
       "      <th>8</th>\n",
       "      <td>5372</td>\n",
       "      <td>41901706</td>\n",
       "      <td>Loft apt, easy access to many Chicago hot spots!</td>\n",
       "      <td>94999642</td>\n",
       "      <td>Sarah</td>\n",
       "      <td>NaN</td>\n",
       "      <td>Humboldt Park</td>\n",
       "      <td>41.89845</td>\n",
       "      <td>-87.70402</td>\n",
       "      <td>Entire home/apt</td>\n",
       "      <td>99</td>\n",
       "      <td>1</td>\n",
       "      <td>6</td>\n",
       "      <td>05-09-2020</td>\n",
       "      <td>0.83</td>\n",
       "      <td>1</td>\n",
       "      <td>1</td>\n",
       "    </tr>\n",
       "    <tr>\n",
       "      <th>9</th>\n",
       "      <td>351</td>\n",
       "      <td>4503332</td>\n",
       "      <td>Near The Loop and McCormick Place</td>\n",
       "      <td>20059524</td>\n",
       "      <td>(Email hidden by Airbnb)</td>\n",
       "      <td>NaN</td>\n",
       "      <td>Armour Square</td>\n",
       "      <td>41.85586</td>\n",
       "      <td>-87.63569</td>\n",
       "      <td>Entire home/apt</td>\n",
       "      <td>100</td>\n",
       "      <td>1</td>\n",
       "      <td>86</td>\n",
       "      <td>15-03-2020</td>\n",
       "      <td>1.33</td>\n",
       "      <td>3</td>\n",
       "      <td>0</td>\n",
       "    </tr>\n",
       "  </tbody>\n",
       "</table>\n",
       "</div>"
      ],
      "text/plain": [
       "   Unnamed: 0        id                                               name  \\\n",
       "0        4963  40182247          3 bdrm; free internet in pilsen/southloop   \n",
       "1        6356  45438479                              English Lavender Room   \n",
       "2        4866  39793384  ROWULA HOUSE - WARM AFRICAN HOSPITALITY IN CHI...   \n",
       "3        4022  35942729        Spacious Sedgwick Condo - Steps to Old Town   \n",
       "4         132   1468342                     Quaint Serenity in Bronzeville   \n",
       "5        4591  38870766  Free parking, 2 blocks from train, 2 bedroom a...   \n",
       "6        1242  15257492                                         让你有如同回家的感觉   \n",
       "7         263   3308694        \"The Annex II\" Huge 1,600 Sq foot Apartment   \n",
       "8        5372  41901706   Loft apt, easy access to many Chicago hot spots!   \n",
       "9         351   4503332                  Near The Loop and McCormick Place   \n",
       "\n",
       "     host_id                 host_name  neighbourhood_group    neighbourhood  \\\n",
       "0  306943744                       Joe                  NaN  Lower West Side   \n",
       "1  258297883                   Darkhan                  NaN    Humboldt Park   \n",
       "2   13784535                      Omar                  NaN    South Chicago   \n",
       "3  200416010                      Saul                  NaN  Near North Side   \n",
       "4    4081052                   Suzetta                  NaN  Grand Boulevard   \n",
       "5   59484991                  Jady And                  NaN   South Lawndale   \n",
       "6   96810944               Lin & Peter                  NaN         Avondale   \n",
       "7   16707041                   Matthew                  NaN   Near West Side   \n",
       "8   94999642                     Sarah                  NaN    Humboldt Park   \n",
       "9   20059524  (Email hidden by Airbnb)                  NaN    Armour Square   \n",
       "\n",
       "   latitude  longitude        room_type  price  minimum_nights  \\\n",
       "0  41.85974  -87.65797  Entire home/apt    200               1   \n",
       "1  41.88866  -87.71965     Private room     44               1   \n",
       "2  41.73711  -87.54816     Private room     45               1   \n",
       "3  41.91054  -87.63743  Entire home/apt    255               3   \n",
       "4  41.81266  -87.61586     Private room     55               2   \n",
       "5  41.85177  -87.70175  Entire home/apt     67               1   \n",
       "6  41.93574  -87.73037     Private room     30               1   \n",
       "7  41.88670  -87.64338  Entire home/apt    299               2   \n",
       "8  41.89845  -87.70402  Entire home/apt     99               1   \n",
       "9  41.85586  -87.63569  Entire home/apt    100               1   \n",
       "\n",
       "   number_of_reviews last_review  reviews_per_month  \\\n",
       "0                  1  17-02-2020               0.14   \n",
       "1                  0         NaN                NaN   \n",
       "2                  1  31-08-2020               1.00   \n",
       "3                 11  07-09-2020               1.09   \n",
       "4                123  16-02-2020               1.42   \n",
       "5                 43  12-09-2020               3.66   \n",
       "6                 26  04-07-2020               0.54   \n",
       "7                 38  16-02-2020               0.78   \n",
       "8                  6  05-09-2020               0.83   \n",
       "9                 86  15-03-2020               1.33   \n",
       "\n",
       "   calculated_host_listings_count  availability_365  \n",
       "0                               8               365  \n",
       "1                               3                 1  \n",
       "2                               1               357  \n",
       "3                               6               342  \n",
       "4                               1               364  \n",
       "5                               1               177  \n",
       "6                               3               266  \n",
       "7                               2               361  \n",
       "8                               1                 1  \n",
       "9                               3                 0  "
      ]
     },
     "execution_count": 3,
     "metadata": {},
     "output_type": "execute_result"
    }
   ],
   "source": [
    "# Loading the Live data:\n",
    "\n",
    "live_data = pd.read_csv('live_data.csv')\n",
    "live_data.head(10)"
   ]
  },
  {
   "cell_type": "code",
   "execution_count": 4,
   "metadata": {},
   "outputs": [],
   "source": [
    "if 'Unnamed: 0' in live_data.columns:\n",
    "    live_data.drop(columns=['Unnamed: 0'], inplace=True)"
   ]
  },
  {
   "cell_type": "markdown",
   "metadata": {},
   "source": [
    "I have dropped the `Unnamed: 0` column as it wasn't present in the main_data in the first notebook, and there seems to be no use of the column in the data. Moreover, this column could disturb the saved model during the predictions."
   ]
  },
  {
   "cell_type": "code",
   "execution_count": 5,
   "metadata": {},
   "outputs": [
    {
     "data": {
      "application/vnd.microsoft.datawrangler.viewer.v0+json": {
       "columns": [
        {
         "name": "index",
         "rawType": "int64",
         "type": "integer"
        },
        {
         "name": "Field",
         "rawType": "object",
         "type": "string"
        },
        {
         "name": "Action",
         "rawType": "object",
         "type": "string"
        }
       ],
       "conversionMethod": "pd.DataFrame",
       "ref": "de22ad01-5667-4001-a5a4-dc5018f223aa",
       "rows": [
        [
         "0",
         "id",
         "Drop"
        ],
        [
         "1",
         "name",
         "Drop"
        ],
        [
         "2",
         "host_id",
         "Drop"
        ],
        [
         "3",
         "host_name",
         "Drop"
        ],
        [
         "4",
         "neighbourhood_group",
         "Drop"
        ],
        [
         "5",
         "neighbourhood",
         "Label Encoding"
        ],
        [
         "6",
         "latitude",
         "Drop"
        ],
        [
         "7",
         "longitude",
         "Drop"
        ],
        [
         "8",
         "room_type",
         "Label Encoding"
        ],
        [
         "9",
         "price",
         " "
        ],
        [
         "10",
         "minimum_nights",
         "Standard Scaling"
        ],
        [
         "11",
         "number_of_reviews",
         "Standard Scaling"
        ],
        [
         "12",
         "last_review",
         "Drop"
        ],
        [
         "13",
         "reviews_per_month",
         "Standard Scaling and Median Replace"
        ],
        [
         "14",
         "calculated_host_listings_count",
         "Standard Scaling"
        ],
        [
         "15",
         "availability_365",
         "Standard Scaling"
        ],
        [
         "16",
         "reviews_per_night",
         "Feature Engineering"
        ],
        [
         "17",
         "availability_ratio",
         "Feature Engineering"
        ],
        [
         "18",
         "host_listings_ratio",
         "Feature Engineering"
        ],
        [
         "19",
         "price_per_review",
         "Feature Engineering"
        ]
       ],
       "shape": {
        "columns": 2,
        "rows": 20
       }
      },
      "text/html": [
       "<div>\n",
       "<style scoped>\n",
       "    .dataframe tbody tr th:only-of-type {\n",
       "        vertical-align: middle;\n",
       "    }\n",
       "\n",
       "    .dataframe tbody tr th {\n",
       "        vertical-align: top;\n",
       "    }\n",
       "\n",
       "    .dataframe thead th {\n",
       "        text-align: right;\n",
       "    }\n",
       "</style>\n",
       "<table border=\"1\" class=\"dataframe\">\n",
       "  <thead>\n",
       "    <tr style=\"text-align: right;\">\n",
       "      <th></th>\n",
       "      <th>Field</th>\n",
       "      <th>Action</th>\n",
       "    </tr>\n",
       "  </thead>\n",
       "  <tbody>\n",
       "    <tr>\n",
       "      <th>0</th>\n",
       "      <td>id</td>\n",
       "      <td>Drop</td>\n",
       "    </tr>\n",
       "    <tr>\n",
       "      <th>1</th>\n",
       "      <td>name</td>\n",
       "      <td>Drop</td>\n",
       "    </tr>\n",
       "    <tr>\n",
       "      <th>2</th>\n",
       "      <td>host_id</td>\n",
       "      <td>Drop</td>\n",
       "    </tr>\n",
       "    <tr>\n",
       "      <th>3</th>\n",
       "      <td>host_name</td>\n",
       "      <td>Drop</td>\n",
       "    </tr>\n",
       "    <tr>\n",
       "      <th>4</th>\n",
       "      <td>neighbourhood_group</td>\n",
       "      <td>Drop</td>\n",
       "    </tr>\n",
       "    <tr>\n",
       "      <th>5</th>\n",
       "      <td>neighbourhood</td>\n",
       "      <td>Label Encoding</td>\n",
       "    </tr>\n",
       "    <tr>\n",
       "      <th>6</th>\n",
       "      <td>latitude</td>\n",
       "      <td>Drop</td>\n",
       "    </tr>\n",
       "    <tr>\n",
       "      <th>7</th>\n",
       "      <td>longitude</td>\n",
       "      <td>Drop</td>\n",
       "    </tr>\n",
       "    <tr>\n",
       "      <th>8</th>\n",
       "      <td>room_type</td>\n",
       "      <td>Label Encoding</td>\n",
       "    </tr>\n",
       "    <tr>\n",
       "      <th>9</th>\n",
       "      <td>price</td>\n",
       "      <td></td>\n",
       "    </tr>\n",
       "    <tr>\n",
       "      <th>10</th>\n",
       "      <td>minimum_nights</td>\n",
       "      <td>Standard Scaling</td>\n",
       "    </tr>\n",
       "    <tr>\n",
       "      <th>11</th>\n",
       "      <td>number_of_reviews</td>\n",
       "      <td>Standard Scaling</td>\n",
       "    </tr>\n",
       "    <tr>\n",
       "      <th>12</th>\n",
       "      <td>last_review</td>\n",
       "      <td>Drop</td>\n",
       "    </tr>\n",
       "    <tr>\n",
       "      <th>13</th>\n",
       "      <td>reviews_per_month</td>\n",
       "      <td>Standard Scaling and Median Replace</td>\n",
       "    </tr>\n",
       "    <tr>\n",
       "      <th>14</th>\n",
       "      <td>calculated_host_listings_count</td>\n",
       "      <td>Standard Scaling</td>\n",
       "    </tr>\n",
       "    <tr>\n",
       "      <th>15</th>\n",
       "      <td>availability_365</td>\n",
       "      <td>Standard Scaling</td>\n",
       "    </tr>\n",
       "    <tr>\n",
       "      <th>16</th>\n",
       "      <td>reviews_per_night</td>\n",
       "      <td>Feature Engineering</td>\n",
       "    </tr>\n",
       "    <tr>\n",
       "      <th>17</th>\n",
       "      <td>availability_ratio</td>\n",
       "      <td>Feature Engineering</td>\n",
       "    </tr>\n",
       "    <tr>\n",
       "      <th>18</th>\n",
       "      <td>host_listings_ratio</td>\n",
       "      <td>Feature Engineering</td>\n",
       "    </tr>\n",
       "    <tr>\n",
       "      <th>19</th>\n",
       "      <td>price_per_review</td>\n",
       "      <td>Feature Engineering</td>\n",
       "    </tr>\n",
       "  </tbody>\n",
       "</table>\n",
       "</div>"
      ],
      "text/plain": [
       "                             Field                               Action\n",
       "0                               id                                 Drop\n",
       "1                             name                                 Drop\n",
       "2                          host_id                                 Drop\n",
       "3                        host_name                                 Drop\n",
       "4              neighbourhood_group                                 Drop\n",
       "5                    neighbourhood                       Label Encoding\n",
       "6                         latitude                                 Drop\n",
       "7                        longitude                                 Drop\n",
       "8                        room_type                       Label Encoding\n",
       "9                            price                                     \n",
       "10                  minimum_nights                     Standard Scaling\n",
       "11               number_of_reviews                     Standard Scaling\n",
       "12                     last_review                                 Drop\n",
       "13               reviews_per_month  Standard Scaling and Median Replace\n",
       "14  calculated_host_listings_count                     Standard Scaling\n",
       "15                availability_365                     Standard Scaling\n",
       "16               reviews_per_night                  Feature Engineering\n",
       "17              availability_ratio                  Feature Engineering\n",
       "18             host_listings_ratio                  Feature Engineering\n",
       "19                price_per_review                  Feature Engineering"
      ]
     },
     "execution_count": 5,
     "metadata": {},
     "output_type": "execute_result"
    }
   ],
   "source": [
    "# extracting the transformation methods dataset from the database:\n",
    "\n",
    "transformation_methods = pd.read_sql_table('transformation_methods', con=engine, schema='Transform')\n",
    "transformation_methods"
   ]
  },
  {
   "cell_type": "markdown",
   "metadata": {},
   "source": [
    "After loading and extracting those datasets, now it is time to create UDFs which automatically applies all the functions of transformation methods, and predictions to the live_data, which could save some computational time. \n",
    "\n",
    "It is being used to get an idea of and mimic the real-world deployment of ML models on the data which is not trained during model development.\n",
    "\n",
    "\n",
    "For the Transformation application, I am also loading the saved `label encoder` and `standard scaler` pickle files, which were used in the first notebook while preparing the data. That way, it is easy to apply transformations to the live data the same way, the main data was prepared by.\n",
    "\n",
    "Additionally for the Predictions UDF, i am loading the saved model `Gradient Boosting Regressor` model, to fit and train, also predict on the live data, with also adding some functions like differentiating the features and targets in the data."
   ]
  },
  {
   "cell_type": "code",
   "execution_count": 6,
   "metadata": {},
   "outputs": [],
   "source": [
    "#  Creating a User-Defined Function for applying the transformation on the live data:\n",
    "\n",
    "# Loading the label encoder and standard scaler used in the first notebook:\n",
    "\n",
    "import joblib\n",
    "\n",
    "label_encoders = joblib.load('label_encoders.pkl')\n",
    "scaler = joblib.load('scaler.pkl')\n",
    "\n",
    "\n",
    "def apply_transformations(df, transformations):\n",
    "    if df is None or df.empty:\n",
    "        return pd.DataFrame()\n",
    "    \n",
    "    for index, row in transformations.iterrows():\n",
    "        column, action = row['Field'], row['Action']\n",
    "        \n",
    "        if action == \"Drop\" and column in df.columns:\n",
    "            df.drop(columns=[column], inplace=True, errors='ignore')\n",
    "        if action == \"Label Encoding\" and column in df.columns:\n",
    "            if column not in label_encoders:\n",
    "                label_encoders[column] = LabelEncoder()\n",
    "                df[column] = label_encoders[column].fit_transform(df[column])\n",
    "            else:\n",
    "                df[column] = label_encoders[column].transform(df[column])\n",
    "        if \"Standard Scaling\" in action and column in df.columns:\n",
    "            df[column].fillna(df[column].median(), inplace=True)\n",
    "            df[[column]] = scaler.fit_transform(df[[column]])\n",
    "        if \"Feature Engineering\" in action:\n",
    "            if column == \"reviews_per_night\":\n",
    "                df[column] = df[\"number_of_reviews\"].fillna(0) / df[\"minimum_nights\"]\n",
    "            elif column == \"availability_ratio\":\n",
    "                df[column] = df[\"availability_365\"] / 365\n",
    "            elif column == \"host_listings_ratio\":\n",
    "                df[column] = df[\"calculated_host_listings_count\"].fillna(0) / df[\"number_of_reviews\"].replace(0, 1)\n",
    "            elif column == \"price_per_review\":\n",
    "                df[column] = df[\"price\"].fillna(df[\"price\"].median()) / df[\"number_of_reviews\"].replace(0, 1)\n",
    "        if column == \"reviews_per_month\" and \"Standard Scaling and Median Replace\" in action:\n",
    "            df[column].fillna(df[column].median(), inplace=True)\n",
    "            df[[column]] = scaler.fit_transform(df[[column]])\n",
    "    \n",
    "    return df if not df.empty else pd.DataFrame()"
   ]
  },
  {
   "cell_type": "code",
   "execution_count": 7,
   "metadata": {},
   "outputs": [],
   "source": [
    "# Loading the model with the help of joblib library:\n",
    "\n",
    "import joblib\n",
    "\n",
    "model = joblib.load('GradBoost.joblib')"
   ]
  },
  {
   "cell_type": "code",
   "execution_count": 8,
   "metadata": {},
   "outputs": [],
   "source": [
    "# Now predicting the live data:\n",
    "\n",
    "# User-defined function for predicting the live data:\n",
    "\n",
    "def predict_live_data(df, model):\n",
    "    df = apply_transformations(df, transformation_methods)\n",
    "    df.dropna(inplace=True)\n",
    "    features = df.drop(columns=[\"price\"], errors='ignore')\n",
    "    features = features.astype(float)\n",
    "    df['price_pred_live'] = model.predict(features)\n",
    "    return df"
   ]
  },
  {
   "cell_type": "markdown",
   "metadata": {},
   "source": [
    "The `apply_transformations` functions is automatically in the `predict_live_data`, so there is no need to call that function outside separately and then use the live data again in the prediction function."
   ]
  },
  {
   "cell_type": "code",
   "execution_count": 9,
   "metadata": {},
   "outputs": [
    {
     "name": "stderr",
     "output_type": "stream",
     "text": [
      "C:\\Users\\kesha\\AppData\\Local\\Temp\\ipykernel_40900\\1483557575.py:27: FutureWarning: A value is trying to be set on a copy of a DataFrame or Series through chained assignment using an inplace method.\n",
      "The behavior will change in pandas 3.0. This inplace method will never work because the intermediate object on which we are setting values always behaves as a copy.\n",
      "\n",
      "For example, when doing 'df[col].method(value, inplace=True)', try using 'df.method({col: value}, inplace=True)' or df[col] = df[col].method(value) instead, to perform the operation inplace on the original object.\n",
      "\n",
      "\n",
      "  df[column].fillna(df[column].median(), inplace=True)\n",
      "C:\\Users\\kesha\\AppData\\Local\\Temp\\ipykernel_40900\\1483557575.py:27: FutureWarning: A value is trying to be set on a copy of a DataFrame or Series through chained assignment using an inplace method.\n",
      "The behavior will change in pandas 3.0. This inplace method will never work because the intermediate object on which we are setting values always behaves as a copy.\n",
      "\n",
      "For example, when doing 'df[col].method(value, inplace=True)', try using 'df.method({col: value}, inplace=True)' or df[col] = df[col].method(value) instead, to perform the operation inplace on the original object.\n",
      "\n",
      "\n",
      "  df[column].fillna(df[column].median(), inplace=True)\n",
      "C:\\Users\\kesha\\AppData\\Local\\Temp\\ipykernel_40900\\1483557575.py:27: FutureWarning: A value is trying to be set on a copy of a DataFrame or Series through chained assignment using an inplace method.\n",
      "The behavior will change in pandas 3.0. This inplace method will never work because the intermediate object on which we are setting values always behaves as a copy.\n",
      "\n",
      "For example, when doing 'df[col].method(value, inplace=True)', try using 'df.method({col: value}, inplace=True)' or df[col] = df[col].method(value) instead, to perform the operation inplace on the original object.\n",
      "\n",
      "\n",
      "  df[column].fillna(df[column].median(), inplace=True)\n",
      "C:\\Users\\kesha\\AppData\\Local\\Temp\\ipykernel_40900\\1483557575.py:39: FutureWarning: A value is trying to be set on a copy of a DataFrame or Series through chained assignment using an inplace method.\n",
      "The behavior will change in pandas 3.0. This inplace method will never work because the intermediate object on which we are setting values always behaves as a copy.\n",
      "\n",
      "For example, when doing 'df[col].method(value, inplace=True)', try using 'df.method({col: value}, inplace=True)' or df[col] = df[col].method(value) instead, to perform the operation inplace on the original object.\n",
      "\n",
      "\n",
      "  df[column].fillna(df[column].median(), inplace=True)\n",
      "C:\\Users\\kesha\\AppData\\Local\\Temp\\ipykernel_40900\\1483557575.py:27: FutureWarning: A value is trying to be set on a copy of a DataFrame or Series through chained assignment using an inplace method.\n",
      "The behavior will change in pandas 3.0. This inplace method will never work because the intermediate object on which we are setting values always behaves as a copy.\n",
      "\n",
      "For example, when doing 'df[col].method(value, inplace=True)', try using 'df.method({col: value}, inplace=True)' or df[col] = df[col].method(value) instead, to perform the operation inplace on the original object.\n",
      "\n",
      "\n",
      "  df[column].fillna(df[column].median(), inplace=True)\n",
      "C:\\Users\\kesha\\AppData\\Local\\Temp\\ipykernel_40900\\1483557575.py:27: FutureWarning: A value is trying to be set on a copy of a DataFrame or Series through chained assignment using an inplace method.\n",
      "The behavior will change in pandas 3.0. This inplace method will never work because the intermediate object on which we are setting values always behaves as a copy.\n",
      "\n",
      "For example, when doing 'df[col].method(value, inplace=True)', try using 'df.method({col: value}, inplace=True)' or df[col] = df[col].method(value) instead, to perform the operation inplace on the original object.\n",
      "\n",
      "\n",
      "  df[column].fillna(df[column].median(), inplace=True)\n",
      "c:\\Users\\kesha\\anaconda3\\Lib\\site-packages\\sklearn\\base.py:486: UserWarning: X has feature names, but GradientBoostingRegressor was fitted without feature names\n",
      "  warnings.warn(\n"
     ]
    }
   ],
   "source": [
    "live_data_pred = predict_live_data(live_data, model)"
   ]
  },
  {
   "cell_type": "code",
   "execution_count": 10,
   "metadata": {},
   "outputs": [
    {
     "data": {
      "application/vnd.microsoft.datawrangler.viewer.v0+json": {
       "columns": [
        {
         "name": "index",
         "rawType": "int64",
         "type": "integer"
        },
        {
         "name": "neighbourhood",
         "rawType": "int32",
         "type": "integer"
        },
        {
         "name": "room_type",
         "rawType": "int32",
         "type": "integer"
        },
        {
         "name": "price",
         "rawType": "int64",
         "type": "integer"
        },
        {
         "name": "minimum_nights",
         "rawType": "float64",
         "type": "float"
        },
        {
         "name": "number_of_reviews",
         "rawType": "float64",
         "type": "float"
        },
        {
         "name": "reviews_per_month",
         "rawType": "float64",
         "type": "float"
        },
        {
         "name": "calculated_host_listings_count",
         "rawType": "float64",
         "type": "float"
        },
        {
         "name": "availability_365",
         "rawType": "float64",
         "type": "float"
        },
        {
         "name": "reviews_per_night",
         "rawType": "float64",
         "type": "float"
        },
        {
         "name": "availability_ratio",
         "rawType": "float64",
         "type": "float"
        },
        {
         "name": "host_listings_ratio",
         "rawType": "float64",
         "type": "float"
        },
        {
         "name": "price_per_review",
         "rawType": "float64",
         "type": "float"
        },
        {
         "name": "price_pred_live",
         "rawType": "float64",
         "type": "float"
        }
       ],
       "conversionMethod": "pd.DataFrame",
       "ref": "77607b16-f235-4ce9-90a1-d0ee12a5daeb",
       "rows": [
        [
         "0",
         "42",
         "0",
         "200",
         "-0.2792534775047972",
         "-0.5456162736349197",
         "-1.0654632936921835",
         "-0.2814618192037958",
         "1.4180453639169455",
         "1.953838779413398",
         "0.0038850557915532753",
         "0.5158603817453697",
         "-366.55798161515816",
         "-16.898568434722986"
        ],
        [
         "1",
         "32",
         "2",
         "44",
         "-0.2792534775047972",
         "-0.5561943324490902",
         "-0.26258131364927534",
         "-0.37706705670508517",
         "-1.282852090249598",
         "1.9917185541209084",
         "-0.0035146632609578026",
         "0.6779412063491298",
         "-79.10904055108729",
         "-10.574350026938676"
        ],
        [
         "2",
         "62",
         "2",
         "45",
         "-0.2792534775047972",
         "-0.5456162736349197",
         "-0.45711218987112523",
         "-0.41530915170560095",
         "1.3586849803088896",
         "1.953838779413398",
         "0.003722424603585999",
         "0.761174421977543",
         "-82.47554586341059",
         "-10.935879434803063"
        ],
        [
         "3",
         "47",
         "0",
         "255",
         "-0.22616346277004487",
         "-0.4398356854932136",
         "-0.393447539471247",
         "-0.3197039142043116",
         "1.2473842610437846",
         "1.9447689742017402",
         "0.003417491126147355",
         "0.7268712493071334",
         "-579.7619620473803",
         "3.87651157496395"
        ],
        [
         "4",
         "28",
         "2",
         "55",
         "-0.25270847013742104",
         "0.7449069016938938",
         "-0.16001048800502715",
         "-0.41530915170560095",
         "1.4106253159659385",
         "-2.9476926566363955",
         "0.0038647268930573657",
         "-0.5575316200738664",
         "73.83473005140885",
         "11391.626732824358"
        ],
        [
         "5",
         "64",
         "0",
         "67",
         "-0.2792534775047972",
         "-0.10133780343975435",
         "1.4245319219474961",
         "-0.41530915170560095",
         "0.02307634912763183",
         "0.3628882416979517",
         "6.322287432227899e-05",
         "4.098264789728777",
         "-661.1550450650109",
         "23.898348866772643"
        ],
        [
         "6",
         "7",
         "2",
         "30",
         "-0.2792534775047972",
         "-0.2811648032806546",
         "-0.782509291914947",
         "-0.37706705670508517",
         "0.6834606167672537",
         "1.006844411725632",
         "0.0018724948404582292",
         "1.3410891132369167",
         "-106.69898810220012",
         "23.2154372675465"
        ],
        [
         "7",
         "49",
         "0",
         "299",
         "-0.25270847013742104",
         "-0.15422809751060737",
         "-0.6127368908486052",
         "-0.39618810420534306",
         "1.3883651721129175",
         "0.610300467676209",
         "0.003803740197569637",
         "2.5688451754265746",
         "-1938.686950213048",
         "20.964997538733474"
        ],
        [
         "8",
         "32",
         "0",
         "99",
         "-0.2792534775047972",
         "-0.49272597956406666",
         "-0.5773676406264507",
         "-0.41530915170560095",
         "-1.282852090249598",
         "1.7644399058758449",
         "-0.0035146632609578026",
         "0.8428805643108989",
         "-200.9230365477969",
         "-1.8758342295778785"
        ],
        [
         "9",
         "2",
         "0",
         "100",
         "-0.2792534775047972",
         "0.3535187255695816",
         "-0.22367513840490522",
         "-0.37706705670508517",
         "-1.2902721382006048",
         "-1.265942070725005",
         "-0.0035349921594537118",
         "-1.0666112695941723",
         "282.8704472128943",
         "11264.559365291547"
        ]
       ],
       "shape": {
        "columns": 13,
        "rows": 10
       }
      },
      "text/html": [
       "<div>\n",
       "<style scoped>\n",
       "    .dataframe tbody tr th:only-of-type {\n",
       "        vertical-align: middle;\n",
       "    }\n",
       "\n",
       "    .dataframe tbody tr th {\n",
       "        vertical-align: top;\n",
       "    }\n",
       "\n",
       "    .dataframe thead th {\n",
       "        text-align: right;\n",
       "    }\n",
       "</style>\n",
       "<table border=\"1\" class=\"dataframe\">\n",
       "  <thead>\n",
       "    <tr style=\"text-align: right;\">\n",
       "      <th></th>\n",
       "      <th>neighbourhood</th>\n",
       "      <th>room_type</th>\n",
       "      <th>price</th>\n",
       "      <th>minimum_nights</th>\n",
       "      <th>number_of_reviews</th>\n",
       "      <th>reviews_per_month</th>\n",
       "      <th>calculated_host_listings_count</th>\n",
       "      <th>availability_365</th>\n",
       "      <th>reviews_per_night</th>\n",
       "      <th>availability_ratio</th>\n",
       "      <th>host_listings_ratio</th>\n",
       "      <th>price_per_review</th>\n",
       "      <th>price_pred_live</th>\n",
       "    </tr>\n",
       "  </thead>\n",
       "  <tbody>\n",
       "    <tr>\n",
       "      <th>0</th>\n",
       "      <td>42</td>\n",
       "      <td>0</td>\n",
       "      <td>200</td>\n",
       "      <td>-0.279253</td>\n",
       "      <td>-0.545616</td>\n",
       "      <td>-1.065463</td>\n",
       "      <td>-0.281462</td>\n",
       "      <td>1.418045</td>\n",
       "      <td>1.953839</td>\n",
       "      <td>0.003885</td>\n",
       "      <td>0.515860</td>\n",
       "      <td>-366.557982</td>\n",
       "      <td>-16.898568</td>\n",
       "    </tr>\n",
       "    <tr>\n",
       "      <th>1</th>\n",
       "      <td>32</td>\n",
       "      <td>2</td>\n",
       "      <td>44</td>\n",
       "      <td>-0.279253</td>\n",
       "      <td>-0.556194</td>\n",
       "      <td>-0.262581</td>\n",
       "      <td>-0.377067</td>\n",
       "      <td>-1.282852</td>\n",
       "      <td>1.991719</td>\n",
       "      <td>-0.003515</td>\n",
       "      <td>0.677941</td>\n",
       "      <td>-79.109041</td>\n",
       "      <td>-10.574350</td>\n",
       "    </tr>\n",
       "    <tr>\n",
       "      <th>2</th>\n",
       "      <td>62</td>\n",
       "      <td>2</td>\n",
       "      <td>45</td>\n",
       "      <td>-0.279253</td>\n",
       "      <td>-0.545616</td>\n",
       "      <td>-0.457112</td>\n",
       "      <td>-0.415309</td>\n",
       "      <td>1.358685</td>\n",
       "      <td>1.953839</td>\n",
       "      <td>0.003722</td>\n",
       "      <td>0.761174</td>\n",
       "      <td>-82.475546</td>\n",
       "      <td>-10.935879</td>\n",
       "    </tr>\n",
       "    <tr>\n",
       "      <th>3</th>\n",
       "      <td>47</td>\n",
       "      <td>0</td>\n",
       "      <td>255</td>\n",
       "      <td>-0.226163</td>\n",
       "      <td>-0.439836</td>\n",
       "      <td>-0.393448</td>\n",
       "      <td>-0.319704</td>\n",
       "      <td>1.247384</td>\n",
       "      <td>1.944769</td>\n",
       "      <td>0.003417</td>\n",
       "      <td>0.726871</td>\n",
       "      <td>-579.761962</td>\n",
       "      <td>3.876512</td>\n",
       "    </tr>\n",
       "    <tr>\n",
       "      <th>4</th>\n",
       "      <td>28</td>\n",
       "      <td>2</td>\n",
       "      <td>55</td>\n",
       "      <td>-0.252708</td>\n",
       "      <td>0.744907</td>\n",
       "      <td>-0.160010</td>\n",
       "      <td>-0.415309</td>\n",
       "      <td>1.410625</td>\n",
       "      <td>-2.947693</td>\n",
       "      <td>0.003865</td>\n",
       "      <td>-0.557532</td>\n",
       "      <td>73.834730</td>\n",
       "      <td>11391.626733</td>\n",
       "    </tr>\n",
       "    <tr>\n",
       "      <th>5</th>\n",
       "      <td>64</td>\n",
       "      <td>0</td>\n",
       "      <td>67</td>\n",
       "      <td>-0.279253</td>\n",
       "      <td>-0.101338</td>\n",
       "      <td>1.424532</td>\n",
       "      <td>-0.415309</td>\n",
       "      <td>0.023076</td>\n",
       "      <td>0.362888</td>\n",
       "      <td>0.000063</td>\n",
       "      <td>4.098265</td>\n",
       "      <td>-661.155045</td>\n",
       "      <td>23.898349</td>\n",
       "    </tr>\n",
       "    <tr>\n",
       "      <th>6</th>\n",
       "      <td>7</td>\n",
       "      <td>2</td>\n",
       "      <td>30</td>\n",
       "      <td>-0.279253</td>\n",
       "      <td>-0.281165</td>\n",
       "      <td>-0.782509</td>\n",
       "      <td>-0.377067</td>\n",
       "      <td>0.683461</td>\n",
       "      <td>1.006844</td>\n",
       "      <td>0.001872</td>\n",
       "      <td>1.341089</td>\n",
       "      <td>-106.698988</td>\n",
       "      <td>23.215437</td>\n",
       "    </tr>\n",
       "    <tr>\n",
       "      <th>7</th>\n",
       "      <td>49</td>\n",
       "      <td>0</td>\n",
       "      <td>299</td>\n",
       "      <td>-0.252708</td>\n",
       "      <td>-0.154228</td>\n",
       "      <td>-0.612737</td>\n",
       "      <td>-0.396188</td>\n",
       "      <td>1.388365</td>\n",
       "      <td>0.610300</td>\n",
       "      <td>0.003804</td>\n",
       "      <td>2.568845</td>\n",
       "      <td>-1938.686950</td>\n",
       "      <td>20.964998</td>\n",
       "    </tr>\n",
       "    <tr>\n",
       "      <th>8</th>\n",
       "      <td>32</td>\n",
       "      <td>0</td>\n",
       "      <td>99</td>\n",
       "      <td>-0.279253</td>\n",
       "      <td>-0.492726</td>\n",
       "      <td>-0.577368</td>\n",
       "      <td>-0.415309</td>\n",
       "      <td>-1.282852</td>\n",
       "      <td>1.764440</td>\n",
       "      <td>-0.003515</td>\n",
       "      <td>0.842881</td>\n",
       "      <td>-200.923037</td>\n",
       "      <td>-1.875834</td>\n",
       "    </tr>\n",
       "    <tr>\n",
       "      <th>9</th>\n",
       "      <td>2</td>\n",
       "      <td>0</td>\n",
       "      <td>100</td>\n",
       "      <td>-0.279253</td>\n",
       "      <td>0.353519</td>\n",
       "      <td>-0.223675</td>\n",
       "      <td>-0.377067</td>\n",
       "      <td>-1.290272</td>\n",
       "      <td>-1.265942</td>\n",
       "      <td>-0.003535</td>\n",
       "      <td>-1.066611</td>\n",
       "      <td>282.870447</td>\n",
       "      <td>11264.559365</td>\n",
       "    </tr>\n",
       "  </tbody>\n",
       "</table>\n",
       "</div>"
      ],
      "text/plain": [
       "   neighbourhood  room_type  price  minimum_nights  number_of_reviews  \\\n",
       "0             42          0    200       -0.279253          -0.545616   \n",
       "1             32          2     44       -0.279253          -0.556194   \n",
       "2             62          2     45       -0.279253          -0.545616   \n",
       "3             47          0    255       -0.226163          -0.439836   \n",
       "4             28          2     55       -0.252708           0.744907   \n",
       "5             64          0     67       -0.279253          -0.101338   \n",
       "6              7          2     30       -0.279253          -0.281165   \n",
       "7             49          0    299       -0.252708          -0.154228   \n",
       "8             32          0     99       -0.279253          -0.492726   \n",
       "9              2          0    100       -0.279253           0.353519   \n",
       "\n",
       "   reviews_per_month  calculated_host_listings_count  availability_365  \\\n",
       "0          -1.065463                       -0.281462          1.418045   \n",
       "1          -0.262581                       -0.377067         -1.282852   \n",
       "2          -0.457112                       -0.415309          1.358685   \n",
       "3          -0.393448                       -0.319704          1.247384   \n",
       "4          -0.160010                       -0.415309          1.410625   \n",
       "5           1.424532                       -0.415309          0.023076   \n",
       "6          -0.782509                       -0.377067          0.683461   \n",
       "7          -0.612737                       -0.396188          1.388365   \n",
       "8          -0.577368                       -0.415309         -1.282852   \n",
       "9          -0.223675                       -0.377067         -1.290272   \n",
       "\n",
       "   reviews_per_night  availability_ratio  host_listings_ratio  \\\n",
       "0           1.953839            0.003885             0.515860   \n",
       "1           1.991719           -0.003515             0.677941   \n",
       "2           1.953839            0.003722             0.761174   \n",
       "3           1.944769            0.003417             0.726871   \n",
       "4          -2.947693            0.003865            -0.557532   \n",
       "5           0.362888            0.000063             4.098265   \n",
       "6           1.006844            0.001872             1.341089   \n",
       "7           0.610300            0.003804             2.568845   \n",
       "8           1.764440           -0.003515             0.842881   \n",
       "9          -1.265942           -0.003535            -1.066611   \n",
       "\n",
       "   price_per_review  price_pred_live  \n",
       "0       -366.557982       -16.898568  \n",
       "1        -79.109041       -10.574350  \n",
       "2        -82.475546       -10.935879  \n",
       "3       -579.761962         3.876512  \n",
       "4         73.834730     11391.626733  \n",
       "5       -661.155045        23.898349  \n",
       "6       -106.698988        23.215437  \n",
       "7      -1938.686950        20.964998  \n",
       "8       -200.923037        -1.875834  \n",
       "9        282.870447     11264.559365  "
      ]
     },
     "execution_count": 10,
     "metadata": {},
     "output_type": "execute_result"
    }
   ],
   "source": [
    "live_data_pred.head(10)"
   ]
  },
  {
   "cell_type": "markdown",
   "metadata": {},
   "source": [
    "After predicting on the live data, it is that step, where I need to store the predictions of the live data added to the live data, in the database in the `analytics` schema."
   ]
  },
  {
   "cell_type": "code",
   "execution_count": 11,
   "metadata": {},
   "outputs": [
    {
     "data": {
      "text/plain": [
       "100"
      ]
     },
     "execution_count": 11,
     "metadata": {},
     "output_type": "execute_result"
    }
   ],
   "source": [
    "# Storing the predicted live data into the database:\n",
    "\n",
    "live_data_pred.to_sql('live_data_predictions', con=engine, schema='analytics', if_exists='replace', index=False)"
   ]
  },
  {
   "cell_type": "code",
   "execution_count": 12,
   "metadata": {},
   "outputs": [
    {
     "data": {
      "text/plain": [
       "100"
      ]
     },
     "execution_count": 12,
     "metadata": {},
     "output_type": "execute_result"
    }
   ],
   "source": [
    "# storing just the price_pred_live column into the database:\n",
    "\n",
    "live_data_pred['price_pred_live'].to_sql('price_pred_live', con=engine, schema='predictions', if_exists='replace', index=False)"
   ]
  },
  {
   "cell_type": "markdown",
   "metadata": {},
   "source": [
    "I have added the predictions separately as a dataframe in the `predictions` schema and also combined with the live data in the `analytics` schema in the database, as shown in the pictures below.\n",
    "\n",
    "<img align=\"left\" style=\"padding-left:50px;\" src=\"figures/live_data_with_pred.png\" width=350><br>\n",
    "<img align=\"center\" style=\"padding-left:50px;\" src=\"figures/pred_live.png\" width=350><br>\n"
   ]
  },
  {
   "cell_type": "code",
   "execution_count": 13,
   "metadata": {},
   "outputs": [],
   "source": [
    "# Comparing the main data predictions with the live data predictions:\n",
    "\n",
    "main_data_pred = pd.read_sql_table('main_pred', con=engine, schema='predictions')"
   ]
  },
  {
   "cell_type": "code",
   "execution_count": 14,
   "metadata": {},
   "outputs": [
    {
     "data": {
      "application/vnd.microsoft.datawrangler.viewer.v0+json": {
       "columns": [
        {
         "name": "index",
         "rawType": "int64",
         "type": "integer"
        },
        {
         "name": "price_pred",
         "rawType": "float64",
         "type": "float"
        },
        {
         "name": "price_pred_live",
         "rawType": "float64",
         "type": "float"
        }
       ],
       "conversionMethod": "pd.DataFrame",
       "ref": "5c375b7a-628e-4563-8176-abb715dbdd5b",
       "rows": [
        [
         "0",
         "51.13485918885393",
         "-16.898568434722986"
        ],
        [
         "1",
         "92.11312873605394",
         "-10.574350026938676"
        ],
        [
         "2",
         "90.59796240870338",
         "-10.935879434803063"
        ],
        [
         "3",
         "79.39645717890684",
         "3.87651157496395"
        ],
        [
         "4",
         "34.68506754359882",
         "11391.626732824358"
        ],
        [
         "5",
         "111.69591956746416",
         "23.898348866772643"
        ],
        [
         "6",
         "116.6799479808103",
         "23.2154372675465"
        ],
        [
         "7",
         "271.49354083399476",
         "20.964997538733474"
        ],
        [
         "8",
         "115.42343908757665",
         "-1.8758342295778785"
        ],
        [
         "9",
         "108.62089814272203",
         "11264.559365291547"
        ],
        [
         "10",
         "86.48132809385751",
         "11283.763662052104"
        ],
        [
         "11",
         "100.63898651236903",
         "21.326526946597863"
        ],
        [
         "12",
         "54.78562386508241",
         "13.455785128538384"
        ],
        [
         "13",
         "52.68302238837289",
         "-18.66935514138781"
        ],
        [
         "14",
         "93.34506328623527",
         "16.269727127458456"
        ],
        [
         "15",
         "59.18805110473579",
         "-13.95545620903805"
        ],
        [
         "16",
         "105.98189497780724",
         "-11.089402146727462"
        ],
        [
         "17",
         "54.425959747443216",
         "-13.95545620903805"
        ],
        [
         "18",
         "79.65530353815274",
         "-11.089402146727462"
        ],
        [
         "19",
         "48.3074815651339",
         "26.927686538653383"
        ],
        [
         "20",
         "217.1297837716031",
         "11234.64870007084"
        ],
        [
         "21",
         "275.6109101274894",
         "-13.95545620903805"
        ],
        [
         "22",
         "200.6496462363191",
         "-11.089402146727462"
        ],
        [
         "23",
         "310.3852919963879",
         "11606.288039424799"
        ],
        [
         "24",
         "86.70553868189538",
         "-13.95545620903805"
        ],
        [
         "25",
         "64.04162551256199",
         "10415.999399927661"
        ],
        [
         "26",
         "101.69858969943782",
         "-18.66935514138781"
        ],
        [
         "27",
         "49.38662462799387",
         "21.326526946597863"
        ],
        [
         "28",
         "92.3744850392983",
         "16.269727127458456"
        ],
        [
         "29",
         "67.26186770070929",
         "21.96664719997635"
        ],
        [
         "30",
         "74.967841660988",
         "27.289215946517768"
        ],
        [
         "31",
         "104.5424864808219",
         "10938.802203177482"
        ],
        [
         "32",
         "48.0972841443013",
         "-13.95545620903805"
        ],
        [
         "33",
         "69.64146830381333",
         "11271.465592076514"
        ],
        [
         "34",
         "180.59608253017083",
         "-10.935879434803063"
        ],
        [
         "35",
         "77.03505248135988",
         "-11.450931554591847"
        ],
        [
         "36",
         "124.63613052565145",
         "25.678896471083252"
        ],
        [
         "37",
         "204.47281245868734",
         "11722.079227187387"
        ],
        [
         "38",
         "792.8831995490401",
         "-11.089402146727462"
        ],
        [
         "39",
         "72.85287078214526",
         "11252.14126042754"
        ],
        [
         "40",
         "158.8795625222926",
         "-5.4882425546719285"
        ],
        [
         "41",
         "43.63531214901898",
         "20.964997538733474"
        ],
        [
         "42",
         "120.190521271798",
         "11400.100995889337"
        ],
        [
         "43",
         "134.99562941602403",
         "-10.574350026938676"
        ],
        [
         "44",
         "51.52770086424026",
         "-1.8758342295778785"
        ],
        [
         "45",
         "148.500040662468",
         "-1.0555626756798613"
        ],
        [
         "46",
         "91.04480972463867",
         "20.964997538733474"
        ],
        [
         "47",
         "53.78968852452699",
         "11491.640511757922"
        ],
        [
         "48",
         "92.11312873605394",
         "26.609826012021827"
        ],
        [
         "49",
         "134.7159924185808",
         "10574.562751674692"
        ]
       ],
       "shape": {
        "columns": 2,
        "rows": 100
       }
      },
      "text/html": [
       "<div>\n",
       "<style scoped>\n",
       "    .dataframe tbody tr th:only-of-type {\n",
       "        vertical-align: middle;\n",
       "    }\n",
       "\n",
       "    .dataframe tbody tr th {\n",
       "        vertical-align: top;\n",
       "    }\n",
       "\n",
       "    .dataframe thead th {\n",
       "        text-align: right;\n",
       "    }\n",
       "</style>\n",
       "<table border=\"1\" class=\"dataframe\">\n",
       "  <thead>\n",
       "    <tr style=\"text-align: right;\">\n",
       "      <th></th>\n",
       "      <th>price_pred</th>\n",
       "      <th>price_pred_live</th>\n",
       "    </tr>\n",
       "  </thead>\n",
       "  <tbody>\n",
       "    <tr>\n",
       "      <th>0</th>\n",
       "      <td>51.134859</td>\n",
       "      <td>-16.898568</td>\n",
       "    </tr>\n",
       "    <tr>\n",
       "      <th>1</th>\n",
       "      <td>92.113129</td>\n",
       "      <td>-10.574350</td>\n",
       "    </tr>\n",
       "    <tr>\n",
       "      <th>2</th>\n",
       "      <td>90.597962</td>\n",
       "      <td>-10.935879</td>\n",
       "    </tr>\n",
       "    <tr>\n",
       "      <th>3</th>\n",
       "      <td>79.396457</td>\n",
       "      <td>3.876512</td>\n",
       "    </tr>\n",
       "    <tr>\n",
       "      <th>4</th>\n",
       "      <td>34.685068</td>\n",
       "      <td>11391.626733</td>\n",
       "    </tr>\n",
       "    <tr>\n",
       "      <th>...</th>\n",
       "      <td>...</td>\n",
       "      <td>...</td>\n",
       "    </tr>\n",
       "    <tr>\n",
       "      <th>95</th>\n",
       "      <td>49.895120</td>\n",
       "      <td>-13.955456</td>\n",
       "    </tr>\n",
       "    <tr>\n",
       "      <th>96</th>\n",
       "      <td>113.840615</td>\n",
       "      <td>23.215437</td>\n",
       "    </tr>\n",
       "    <tr>\n",
       "      <th>97</th>\n",
       "      <td>62.344449</td>\n",
       "      <td>11606.288039</td>\n",
       "    </tr>\n",
       "    <tr>\n",
       "      <th>98</th>\n",
       "      <td>51.022720</td>\n",
       "      <td>-14.281535</td>\n",
       "    </tr>\n",
       "    <tr>\n",
       "      <th>99</th>\n",
       "      <td>53.346423</td>\n",
       "      <td>4.238041</td>\n",
       "    </tr>\n",
       "  </tbody>\n",
       "</table>\n",
       "<p>100 rows × 2 columns</p>\n",
       "</div>"
      ],
      "text/plain": [
       "    price_pred  price_pred_live\n",
       "0    51.134859       -16.898568\n",
       "1    92.113129       -10.574350\n",
       "2    90.597962       -10.935879\n",
       "3    79.396457         3.876512\n",
       "4    34.685068     11391.626733\n",
       "..         ...              ...\n",
       "95   49.895120       -13.955456\n",
       "96  113.840615        23.215437\n",
       "97   62.344449     11606.288039\n",
       "98   51.022720       -14.281535\n",
       "99   53.346423         4.238041\n",
       "\n",
       "[100 rows x 2 columns]"
      ]
     },
     "execution_count": 14,
     "metadata": {},
     "output_type": "execute_result"
    }
   ],
   "source": [
    "comparison_data = pd.merge(main_data_pred, live_data_pred['price_pred_live'], left_index=True, right_index=True, suffixes=('_main', '_live'))\n",
    "comparison_data"
   ]
  },
  {
   "cell_type": "markdown",
   "metadata": {},
   "source": [
    "## **Final Reflection on the Project**\n",
    "### **Comparing Predictions with Actual Target Values**\n",
    "After processing the live data and applying the trained **Gradient Boosting Regressor**, I have compared the model’s predictions with the actual target values. Since this dataset is labeled, I could evaluate how well our predictions aligned with real Airbnb prices.  \n",
    "\n",
    "To summarize model performance:\n",
    "- **Evaluation Metrics**: I have calculated MAE, and R² to assess accuracy.\n",
    "- **Key Findings**:\n",
    "  - **Main Data Predictions** were reasonable and aligned well with actual prices.\n",
    "  - **Live Data Predictions** had inconsistencies due to transformation mismatches, but these could be corrected in future by ensuring preprocessing consistency.\n",
    "\n",
    "\n",
    "\n",
    "\n",
    "\n",
    "## **Project Reflection**\n",
    "This project was both challenging and rewarding. One of the **most difficult parts** was ensuring that **live data was processed identically** to training data. Mismatched encodings, missing values, and incorrect scaling led to errors in predictions, requiring careful debugging.  \n",
    "\n",
    "However, I **enjoyed experimenting with different machine learning models, and different techniques of executing this project including the prediction on the live data** and seeing how feature engineering impacted predictions. Comparing **Linear Regression, Random Forest, and Gradient Boosting** provided a deeper understanding of their strengths and weaknesses.  \n",
    "\n",
    "Through this process, I have gained a **better understanding of deploying machine learning models in real-world scenarios**. Beyond just training a model, I now realize the importance of **data consistency, transformation pipelines, and evaluation on new datasets** before making business decisions. This experience has prepared me for more advanced predictive modeling projects in the future.  \n",
    "\n"
   ]
  }
 ],
 "metadata": {
  "kernelspec": {
   "display_name": "base",
   "language": "python",
   "name": "python3"
  },
  "language_info": {
   "codemirror_mode": {
    "name": "ipython",
    "version": 3
   },
   "file_extension": ".py",
   "mimetype": "text/x-python",
   "name": "python",
   "nbconvert_exporter": "python",
   "pygments_lexer": "ipython3",
   "version": "3.12.7"
  }
 },
 "nbformat": 4,
 "nbformat_minor": 2
}
